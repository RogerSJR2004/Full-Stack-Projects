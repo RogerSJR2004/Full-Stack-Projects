{
 "cells": [
  {
   "cell_type": "code",
   "execution_count": 1,
   "id": "a9664da9",
   "metadata": {},
   "outputs": [
    {
     "name": "stdout",
     "output_type": "stream",
     "text": [
      "Student Marks Dictionary:\n",
      "{'Alice': 82, 'Bob': 76, 'Charlie': 91, 'David': 68, 'Eva': 88}\n"
     ]
    }
   ],
   "source": [
    "students = {\n",
    "    \"Alice\": 82,\n",
    "    \"Bob\": 76,\n",
    "    \"Charlie\": 91,\n",
    "    \"David\": 68,\n",
    "    \"Eva\": 88\n",
    "}\n",
    "print(\"Student Marks Dictionary:\")\n",
    "print(students)"
   ]
  },
  {
   "cell_type": "code",
   "execution_count": 2,
   "id": "b22af191",
   "metadata": {},
   "outputs": [
    {
     "name": "stdout",
     "output_type": "stream",
     "text": [
      "\n",
      "Student Names:\n",
      "dict_keys(['Alice', 'Bob', 'Charlie', 'David', 'Eva'])\n"
     ]
    }
   ],
   "source": [
    "# Print student names \n",
    "print(\"\\nStudent Names:\")\n",
    "print(students.keys())\n"
   ]
  },
  {
   "cell_type": "code",
   "execution_count": 3,
   "id": "b582f60c",
   "metadata": {},
   "outputs": [
    {
     "name": "stdout",
     "output_type": "stream",
     "text": [
      "\n",
      "Student Marks:\n",
      "dict_values([82, 76, 91, 68, 88])\n"
     ]
    }
   ],
   "source": [
    "# Print marks \n",
    "print(\"\\nStudent Marks:\")\n",
    "print(students.values())"
   ]
  },
  {
   "cell_type": "code",
   "execution_count": 4,
   "metadata": {},
   "outputs": [
    {
     "name": "stdout",
     "output_type": "stream",
     "text": [
      "\n",
      "All Students and Marks:\n",
      "Alice: 82\n",
      "Bob: 76\n",
      "Charlie: 91\n",
      "David: 68\n",
      "Eva: 88\n"
     ]
    }
   ],
   "source": [
    "\n",
    "# student names and their marks\n",
    "print(\"\\nAll Students and Marks:\")\n",
    "for name, marks in students.items():\n",
    "    print(f\"{name}: {marks}\")"
   ]
  },
  {
   "cell_type": "code",
   "execution_count": 5,
   "id": "12ab5af4",
   "metadata": {},
   "outputs": [
    {
     "name": "stdout",
     "output_type": "stream",
     "text": [
      "\n",
      "After deleting David:\n",
      "{'Alice': 82, 'Bob': 76, 'Charlie': 91, 'Eva': 88}\n"
     ]
    }
   ],
   "source": [
    "del students[\"David\"]\n",
    "print(\"\\nAfter deleting David:\")\n",
    "print(students)"
   ]
  },
  {
   "cell_type": "code",
   "execution_count": 6,
   "metadata": {},
   "outputs": [
    {
     "name": "stdout",
     "output_type": "stream",
     "text": [
      "\n",
      "Is Charlie in the dictionary?\n",
      "True\n"
     ]
    }
   ],
   "source": [
    "# Check student name exists\n",
    "student_name = \"Charlie\"\n",
    "print(f\"\\nIs {student_name} in the dictionary?\")\n",
    "print(student_name in students)"
   ]
  },
  {
   "cell_type": "code",
   "execution_count": 7,
   "id": "9c17af44",
   "metadata": {},
   "outputs": [
    {
     "name": "stdout",
     "output_type": "stream",
     "text": [
      "\n",
      "Top student: Charlie with marks 91\n"
     ]
    }
   ],
   "source": [
    "# Get the student with the highest marks\n",
    "top_student = max(students, key=students.get)\n",
    "print(f\"\\nTop student: {top_student} with marks {students[top_student]}\")"
   ]
  },
  {
   "cell_type": "code",
   "execution_count": 8,
   "id": "b4eeae76",
   "metadata": {},
   "outputs": [
    {
     "name": "stdout",
     "output_type": "stream",
     "text": [
      "\n",
      "Number of students who scored above 75: 4\n"
     ]
    }
   ],
   "source": [
    "# Count how many students scored above 75\n",
    "count_above_75 = sum(1 for mark in students.values() if mark > 75)\n",
    "print(f\"\\nNumber of students who scored above 75: {count_above_75}\")"
   ]
  },
  {
   "cell_type": "code",
   "execution_count": 9,
   "id": "a8ebeee7",
   "metadata": {},
   "outputs": [
    {
     "name": "stdout",
     "output_type": "stream",
     "text": [
      "\n",
      "New students dictionary:\n",
      "{'George': 85, 'Helen': 73, 'Ivy': 90}\n"
     ]
    }
   ],
   "source": [
    "# Convert two lists to dictionary\n",
    "names = [\"George\", \"Helen\", \"Ivy\"]\n",
    "marks = [85, 73, 90]\n",
    "new_students = dict(zip(names, marks))\n",
    "print(\"\\nNew students dictionary:\")\n",
    "print(new_students)"
   ]
  },
  {
   "cell_type": "code",
   "execution_count": 10,
   "id": "64cccc1b",
   "metadata": {},
   "outputs": [
    {
     "name": "stdout",
     "output_type": "stream",
     "text": [
      "\n",
      "Merged students dictionary:\n",
      "{'Alice': 82, 'Bob': 76, 'Charlie': 91, 'Eva': 88, 'George': 85, 'Helen': 73, 'Ivy': 90}\n"
     ]
    }
   ],
   "source": [
    "# Merge two dictionaries  # Code by AI\n",
    "merged_students = {**students, **new_students}\n",
    "print(\"\\nMerged students dictionary:\")\n",
    "print(merged_students)"
   ]
  },
  {
   "cell_type": "code",
   "execution_count": 11,
   "id": "318c0085",
   "metadata": {},
   "outputs": [
    {
     "name": "stdout",
     "output_type": "stream",
     "text": [
      "\n",
      "Average marks: 84.25\n"
     ]
    }
   ],
   "source": [
    "\n",
    "# Find the average marks of all students in the dictionary # Code by AI\n",
    "average_marks = sum(students.values()) / len(students)\n",
    "print(f\"\\nAverage marks: {average_marks:.2f}\")"
   ]
  },
  {
   "cell_type": "code",
   "execution_count": 12,
   "id": "19b5523b",
   "metadata": {},
   "outputs": [
    {
     "name": "stdout",
     "output_type": "stream",
     "text": [
      "\n",
      "Details of Charlie:\n",
      "{'age': 17, 'marks': {'Math': 92, 'Science': 90}}\n"
     ]
    }
   ],
   "source": [
    "# Nested dictionary for student data \n",
    "student_data = {\n",
    "    \"Alice\": {\"age\": 17, \"marks\": {\"Math\": 85, \"Science\": 80}},\n",
    "    \"Bob\": {\"age\": 16, \"marks\": {\"Math\": 78, \"Science\": 82}},\n",
    "    \"Charlie\": {\"age\": 17, \"marks\": {\"Math\": 92, \"Science\": 90}}\n",
    "}\n",
    "specific_student = \"Charlie\"\n",
    "print(f\"\\nDetails of {specific_student}:\")\n",
    "print(student_data.get(specific_student, \"Student not found\"))"
   ]
  },
  {
   "cell_type": "code",
   "execution_count": 13,
   "id": "e58edd94",
   "metadata": {},
   "outputs": [
    {
     "name": "stdout",
     "output_type": "stream",
     "text": [
      "\n",
      "After adding Frank and updating Bob's marks:\n",
      "{'Alice': 82, 'Bob': 80, 'Charlie': 91, 'Eva': 88, 'Frank': 79}\n"
     ]
    }
   ],
   "source": [
    "# Add a new student and update marks\n",
    "students[\"Frank\"] = 79  # Add new student\n",
    "students[\"Bob\"] = 80    # Update marks for Bob\n",
    "print(\"\\nAfter adding Frank and updating Bob's marks:\")\n",
    "print(students)\n"
   ]
  },
  {
   "cell_type": "code",
   "execution_count": null,
   "id": "d0af207a",
   "metadata": {},
   "outputs": [
    {
     "name": "stdout",
     "output_type": "stream",
     "text": [
      "12 is Even.\n"
     ]
    }
   ],
   "source": [
    "# Check if a number is even or odd\n",
    "num = int(input(\"Enter a number: \"))\n",
    "\n",
    "if num % 2 == 0:\n",
    "    print(f\"{num} is Even.\")\n",
    "else:\n",
    "    print(f\"{num} is Odd.\")"
   ]
  },
  {
   "cell_type": "code",
   "execution_count": null,
   "id": "23d62463",
   "metadata": {},
   "outputs": [
    {
     "name": "stdout",
     "output_type": "stream",
     "text": [
      "Your age is: 21\n",
      "Eligible to vote.\n"
     ]
    }
   ],
   "source": [
    "#Check if a person is eligible to vote\n",
    "age = int(input(\"Enter your age: \"))\n",
    "print(\"Your age is:\", age)\n",
    "if age >= 18:\n",
    "    print(\"Eligible to vote.\")\n",
    "else:\n",
    "    print(\"Not eligible to vote.\")"
   ]
  },
  {
   "cell_type": "code",
   "execution_count": null,
   "id": "247b780c",
   "metadata": {},
   "outputs": [
    {
     "name": "stdout",
     "output_type": "stream",
     "text": [
      "Positive number.\n"
     ]
    }
   ],
   "source": [
    "#Check if a number is positive, negative, or zero\n",
    "n = float(input(\"Enter a number: \"))\n",
    "\n",
    "if n > 0:\n",
    "    print(\"Positive number.\")\n",
    "elif n < 0:\n",
    "    print(\"Negative number.\")\n",
    "else:\n",
    "    print(\"Zero.\")"
   ]
  },
  {
   "cell_type": "code",
   "execution_count": null,
   "id": "85d44f4b",
   "metadata": {},
   "outputs": [
    {
     "name": "stdout",
     "output_type": "stream",
     "text": [
      "55.0 is larger.\n"
     ]
    }
   ],
   "source": [
    "# Find the largest of two numbers\n",
    "a = float(input(\"Enter first number: \"))\n",
    "b = float(input(\"Enter second number: \"))\n",
    "\n",
    "if a > b:\n",
    "    print(f\"{a} is larger.\")\n",
    "elif b > a:\n",
    "    print(f\"{b} is larger.\")\n",
    "else:\n",
    "    print(\"Both numbers are equal.\")"
   ]
  },
  {
   "cell_type": "code",
   "execution_count": null,
   "id": "5c07c589",
   "metadata": {},
   "outputs": [
    {
     "name": "stdout",
     "output_type": "stream",
     "text": [
      "2026 is not a leap year.\n"
     ]
    }
   ],
   "source": [
    "year = int(input(\"Enter a year: \"))\n",
    "\n",
    "if (year % 4 == 0 and year % 100 != 0) or (year % 400 == 0):\n",
    "    print(f\"{year} is a leap year.\")\n",
    "else:\n",
    "    print(f\"{year} is not a leap year.\")   # Gpt code don't know how to do this so that's why i use ai here"
   ]
  },
  {
   "cell_type": "code",
   "execution_count": null,
   "id": "bc128f38",
   "metadata": {},
   "outputs": [
    {
     "name": "stdout",
     "output_type": "stream",
     "text": [
      "Grade: C\n",
      "Your marks are: 68.0\n"
     ]
    }
   ],
   "source": [
    "#Accept marks and print grade\n",
    "marks = float(input(\"Enter marks: \"))\n",
    "\n",
    "if marks > 90:\n",
    "    print(\"Grade: A\")\n",
    "elif marks >= 75:\n",
    "    print(\"Grade: B\")\n",
    "elif marks >= 60:\n",
    "    print(\"Grade: C\")\n",
    "else:\n",
    "    print(\"Grade: Fail\")\n",
    "print(\"Your marks are:\", marks)    "
   ]
  },
  {
   "cell_type": "code",
   "execution_count": null,
   "id": "91a8daa3",
   "metadata": {},
   "outputs": [
    {
     "name": "stdout",
     "output_type": "stream",
     "text": [
      "roger is a consonant.\n"
     ]
    }
   ],
   "source": [
    "ch = input(\"Enter a character: \").lower()\n",
    "\n",
    "if ch in 'aeiou':\n",
    "    print(f\"{ch} is a vowel.\")\n",
    "elif ch.isalpha():\n",
    "    print(f\"{ch} is a consonant.\")\n",
    "else:\n",
    "    print(\"Not an alphabet character.\") #Same here used Gpt (Check if a character is a vowel or consonant)"
   ]
  },
  {
   "cell_type": "code",
   "execution_count": null,
   "id": "532bc2b4",
   "metadata": {},
   "outputs": [
    {
     "name": "stdout",
     "output_type": "stream",
     "text": [
      "21 is not divisible by both 3 and 5.\n"
     ]
    }
   ],
   "source": [
    "# Check if a number is divisible by 3 and 5\n",
    "num = int(input(\"Enter a number: \"))\n",
    "\n",
    "if num % 3 == 0 and num % 5 == 0:\n",
    "    print(f\"{num} is divisible by both 3 and 5.\")\n",
    "else:\n",
    "    print(f\"{num} is not divisible by both 3 and 5.\")"
   ]
  },
  {
   "cell_type": "code",
   "execution_count": null,
   "id": "fb936b04",
   "metadata": {},
   "outputs": [
    {
     "name": "stdout",
     "output_type": "stream",
     "text": [
      "Largest is 23.0\n"
     ]
    }
   ],
   "source": [
    "# find the largest\n",
    "x = float(input(\"Enter first number: \"))\n",
    "y = float(input(\"Enter second number: \"))\n",
    "z = float(input(\"Enter third number: \"))\n",
    "\n",
    "if x >= y and x >= z:\n",
    "    print(f\"Largest is {x}\")\n",
    "elif y >= x and y >= z:\n",
    "    print(f\"Largest is {y}\")\n",
    "else:\n",
    "    print(f\"Largest is {z}\")"
   ]
  },
  {
   "cell_type": "code",
   "execution_count": null,
   "id": "7808ea57",
   "metadata": {},
   "outputs": [
    {
     "name": "stdout",
     "output_type": "stream",
     "text": [
      "Discount: 118.80\n",
      "Final amount: 1069.20\n"
     ]
    }
   ],
   "source": [
    "bill = float(input(\"Enter total bill amount: \"))\n",
    "\n",
    "if bill > 1000:\n",
    "    discount = bill * 0.10 # I tried to use % but it didn't work\n",
    "    print(f\"Discount: {discount:.2f}\")\n",
    "    print(f\"Final amount: {bill - discount:.2f}\")\n",
    "else:\n",
    "    print(\"No discount. Final amount:\", bill)  # Here also used Gpt to complete the code (Calculate discount on bill amount)"
   ]
  },
  {
   "cell_type": "markdown",
   "id": "a034aac9",
   "metadata": {},
   "source": [
    "# Class Work"
   ]
  },
  {
   "cell_type": "code",
   "execution_count": null,
   "id": "ec25f6d8",
   "metadata": {},
   "outputs": [
    {
     "name": "stdout",
     "output_type": "stream",
     "text": [
      "1 \n",
      "3 \n",
      "7 \n",
      "9 \n",
      "4 is even\n"
     ]
    }
   ],
   "source": [
    "numbers = [1, 3, 7, 9, 4, 8,10]\n",
    "for i in numbers:\n",
    "    if i % 2 == 0:\n",
    "        print(f\"{i} is even\")\n",
    "        break\n",
    "    print(f\"{i} \") \n"
   ]
  },
  {
   "cell_type": "code",
   "execution_count": null,
   "id": "2abc726e",
   "metadata": {},
   "outputs": [
    {
     "name": "stdout",
     "output_type": "stream",
     "text": [
      "5\n",
      "4\n",
      "3\n",
      "2\n",
      "1\n",
      "0\n"
     ]
    }
   ],
   "source": [
    "i =5\n",
    "while i >= 0:\n",
    "    print(i)\n",
    "    i -= 1\n"
   ]
  },
  {
   "cell_type": "code",
   "execution_count": 4,
   "id": "3894050a",
   "metadata": {},
   "outputs": [
    {
     "name": "stdout",
     "output_type": "stream",
     "text": [
      "Hello, Roger! Welcome to the Python programming world.\n"
     ]
    }
   ],
   "source": [
    "def A_greeting(name):\n",
    "    print(f\"Hello, {name}! Welcome to the Python programming world.\")\n",
    "\n",
    "def main():\n",
    "    name = input(\"Enter your name: \")\n",
    "    A_greeting(name)\n",
    "if __name__ == \"__main__\":\n",
    "    main()"
   ]
  },
  {
   "cell_type": "code",
   "execution_count": null,
   "id": "4e037b0d",
   "metadata": {},
   "outputs": [
    {
     "name": "stdout",
     "output_type": "stream",
     "text": [
      "Your BMI is: 23.629489603024574\n",
      "You have a normal weight.\n"
     ]
    }
   ],
   "source": [
    "def BMI_calculator(weight, height):\n",
    "    bmi = weight / (height ** 2)\n",
    "    return bmi\n",
    "def main():\n",
    "    bmi = BMI_calculator(80, 1.84)\n",
    "    print(f\"Your BMI is: {bmi}\")\n",
    "    if bmi < 18:\n",
    "        print(\"You are underweight.\")\n",
    "    elif 18.5 <= bmi < 30:\n",
    "        print(\"You have a normal weight.\")\n",
    "    elif 25 <= bmi < 30:\n",
    "        print(\"You are overweight.\")\n",
    "    else:\n",
    "        print(\"You are obese.\")\n",
    "if __name__ == \"__main__\":\n",
    "    main()"
   ]
  },
  {
   "cell_type": "code",
   "execution_count": 16,
   "id": "22fbad8d",
   "metadata": {},
   "outputs": [
    {
     "name": "stdout",
     "output_type": "stream",
     "text": [
      "<function <lambda> at 0x0000027A72DA79C0>\n"
     ]
    }
   ],
   "source": [
    "a =lambda x,y: 10 + 19\n",
    "print(a)"
   ]
  },
  {
   "cell_type": "code",
   "execution_count": 1,
   "id": "b0ce6bd7",
   "metadata": {},
   "outputs": [
    {
     "name": "stdout",
     "output_type": "stream",
     "text": [
      "2 x 1 = 2\n",
      "2 x 2 = 4\n",
      "2 x 3 = 6\n",
      "2 x 4 = 8\n",
      "2 x 5 = 10\n",
      "2 x 6 = 12\n",
      "2 x 7 = 14\n",
      "2 x 8 = 16\n",
      "2 x 9 = 18\n",
      "2 x 10 = 20\n"
     ]
    }
   ],
   "source": [
    "def print_twos_table():\n",
    "    for i in range(1, 11):\n",
    "        print(f\"2 x {i} = {2 * i}\")\n",
    "\n",
    "print_twos_table()"
   ]
  },
  {
   "cell_type": "code",
   "execution_count": 8,
   "id": "de825212",
   "metadata": {},
   "outputs": [
    {
     "name": "stdout",
     "output_type": "stream",
     "text": [
      "Hello, Sam welcome to our Platfrom!\n",
      "Hello, Akash welcome to our Platfrom!\n",
      "Hello, Bob welcome to our Platfrom!\n"
     ]
    }
   ],
   "source": [
    "# function *args\n",
    "\n",
    "def greet(*args):\n",
    "    \n",
    "   for name in args:\n",
    "        print(f\"Hello, {name} welcome to our Platfrom!\")\n",
    "greet(\"Sam\", \"Akash\", \"Bob\")"
   ]
  },
  {
   "cell_type": "code",
   "execution_count": 3,
   "id": "d464d2f2",
   "metadata": {},
   "outputs": [],
   "source": [
    "def details(**kwargs):\n",
    "    for key, value in kwargs.items():\n",
    "        print(f\"{key}: {value}\")"
   ]
  },
  {
   "cell_type": "code",
   "execution_count": 4,
   "id": "dc1c5fa7",
   "metadata": {},
   "outputs": [
    {
     "name": "stdout",
     "output_type": "stream",
     "text": [
      "name: Roger\n",
      "age: 21\n",
      "college: Grace COE\n"
     ]
    }
   ],
   "source": [
    "details(name=\"Roger\", age=21, college=\"Grace COE\")"
   ]
  },
  {
   "cell_type": "code",
   "execution_count": null,
   "id": "7c1d5ef6",
   "metadata": {},
   "outputs": [
    {
     "name": "stdout",
     "output_type": "stream",
     "text": [
      "This is a sample text file created for task 3.\n"
     ]
    }
   ],
   "source": [
    "file = open(\"task3.txt\", \"w\")\n",
    "file.write(\"This is a sample text file created for task 3.\")\n",
    "file.close()\n"
   ]
  },
  {
   "cell_type": "code",
   "execution_count": 11,
   "id": "ea6cfd03",
   "metadata": {},
   "outputs": [
    {
     "name": "stdout",
     "output_type": "stream",
     "text": [
      "This is a sample text file created for task 3. hello bro\n"
     ]
    }
   ],
   "source": [
    "file = open(\"task3.txt\", \"r\")\n",
    "print(file.read())\n",
    "file.close()"
   ]
  },
  {
   "cell_type": "markdown",
   "id": "7f9034a6",
   "metadata": {},
   "source": [
    "With open used to handle the close function automatic"
   ]
  },
  {
   "cell_type": "code",
   "execution_count": 14,
   "id": "81f3ae32",
   "metadata": {},
   "outputs": [],
   "source": [
    "with open(\"task3.txt\", \"a\") as file:\n",
    "    file.write(\"\\n welcome home\")"
   ]
  },
  {
   "cell_type": "code",
   "execution_count": 15,
   "id": "e159a3c6",
   "metadata": {},
   "outputs": [],
   "source": [
    "with open(\"task3.txt\", \"a\") as file:\n",
    "    file.write(\"\\n how are you?\")"
   ]
  },
  {
   "cell_type": "code",
   "execution_count": 17,
   "id": "8b941067",
   "metadata": {},
   "outputs": [],
   "source": [
    "with open(\"Task3.txt\", \"a\") as file:\n",
    "    file.write(\"\\n i'm happy to see you here\")"
   ]
  },
  {
   "cell_type": "code",
   "execution_count": 20,
   "id": "42fe470a",
   "metadata": {},
   "outputs": [
    {
     "name": "stdout",
     "output_type": "stream",
     "text": [
      "['This is a sample text file created for task 3. hello bro\\n', ' welcome home\\n', ' how are you\\n', \" i'm happy to see you here\\n\", \" i'm happy to see you here\"]\n"
     ]
    }
   ],
   "source": [
    "with open(\"task3.txt\", \"r\") as file:\n",
    "    # content = file.read()\n",
    "    # print(content)\n",
    "\n",
    "    line = file.readlines()\n",
    "    print(line)"
   ]
  },
  {
   "cell_type": "code",
   "execution_count": null,
   "id": "db1bde62",
   "metadata": {},
   "outputs": [
    {
     "name": "stdout",
     "output_type": "stream",
     "text": [
      "['Apple', 'Cat', 'Dog']\n",
      "Account No: ######\n"
     ]
    }
   ],
   "source": [
    "# GPT Code\n",
    "import re\n",
    "# Validate a phone number\n",
    "pattern = r\"\\d{3}-\\d{3}-\\d{4}\"\n",
    "re.match(pattern, \"123-456-7890\")  \n",
    "\n",
    "# Find words starting with capital letter\n",
    "text = \"Apple banana Cat Dog elephant\"\n",
    "result = re.findall(r\"\\b[A-Z][a-z]*\\b\", text)\n",
    "print(result)  \n",
    "\n",
    "# Replace digits with #\n",
    "text = \"Account No: 489725\"\n",
    "masked = re.sub(r\"\\d\", \"#\", text)\n",
    "print(masked)  "
   ]
  },
  {
   "cell_type": "code",
   "execution_count": null,
   "id": "1cce27dc",
   "metadata": {},
   "outputs": [
    {
     "name": "stdout",
     "output_type": "stream",
     "text": [
      "iPhone 14\n",
      "999.99\n"
     ]
    }
   ],
   "source": [
    "class iphone():\n",
    "    name = \"iPhone 14\"\n",
    "    price = 999.99\n",
    "\n",
    "phone = iphone()\n",
    "print(phone.name)\n",
    "print(phone.price)  \n",
    "\n",
    "# print(f\"Phone Name: {phone.name}, Price: ${phone.price}\")"
   ]
  },
  {
   "cell_type": "code",
   "execution_count": 4,
   "id": "08538e33",
   "metadata": {},
   "outputs": [
    {
     "name": "stdout",
     "output_type": "stream",
     "text": [
      "Adding new students\n",
      "John Doe 12345\n"
     ]
    }
   ],
   "source": [
    "class Student():\n",
    "    def __init__(self,fullname,Rollno):\n",
    "        self.name = fullname\n",
    "        self.id = Rollno\n",
    "        print(\"Adding new students\")\n",
    "\n",
    "s1 = Student(\"John Doe\", \"12345\")\n",
    "print(s1.name, s1.id)"
   ]
  },
  {
   "cell_type": "code",
   "execution_count": null,
   "id": "70a2ead5",
   "metadata": {},
   "outputs": [],
   "source": []
  }
 ],
 "metadata": {
  "kernelspec": {
   "display_name": "base",
   "language": "python",
   "name": "python3"
  },
  "language_info": {
   "codemirror_mode": {
    "name": "ipython",
    "version": 3
   },
   "file_extension": ".py",
   "mimetype": "text/x-python",
   "name": "python",
   "nbconvert_exporter": "python",
   "pygments_lexer": "ipython3",
   "version": "3.11.7"
  }
 },
 "nbformat": 4,
 "nbformat_minor": 5
}
