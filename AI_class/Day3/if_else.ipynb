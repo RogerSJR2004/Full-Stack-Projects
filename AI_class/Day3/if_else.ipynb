{
 "cells": [
  {
   "cell_type": "markdown",
   "id": "5c49a50d",
   "metadata": {},
   "source": [
    "#### . The Basics: if, else, and elif\n",
    "### At its core, the if-else statement checks a condition. If the condition is true, a block of code is executed. Otherwise, if there's an else statement, its block of code is executed.\n",
    "#### Basic Usage: Embedding Variables\n",
    "The most common use case is to embed variable values directly into a string."
   ]
  },
  {
   "cell_type": "code",
   "execution_count": 25,
   "id": "d259a4f2",
   "metadata": {},
   "outputs": [
    {
     "name": "stdout",
     "output_type": "stream",
     "text": [
      "Hello, Alice!\n"
     ]
    }
   ],
   "source": [
    "# Example 1: Embedding a single variable\n",
    "name = \"Alice\"\n",
    "greeting = f\"Hello, {name}!\"\n",
    "print(greeting) # Output: Hello, Alice!\n",
    "\n",
    "\n"
   ]
  },
  {
   "cell_type": "code",
   "execution_count": 18,
   "id": "6fce7484",
   "metadata": {},
   "outputs": [
    {
     "name": "stdout",
     "output_type": "stream",
     "text": [
      "Today in New York, the temperature is 28°C.\n"
     ]
    }
   ],
   "source": [
    "# Example 2: Embedding multiple variables\n",
    "city = \"New York\"\n",
    "temperature = 28\n",
    "weather_report = f\"Today in {city}, the temperature is {temperature}°C.\"\n",
    "print(weather_report) # Output: Today in New York, the temperature is 28°C."
   ]
  },
  {
   "cell_type": "code",
   "execution_count": 29,
   "id": "1ab930cc",
   "metadata": {},
   "outputs": [
    {
     "name": "stdout",
     "output_type": "stream",
     "text": [
      "The total cost is $21.59.\n"
     ]
    }
   ],
   "source": [
    "# Example 3: Arithmetic operations\n",
    "price = 19.99\n",
    "tax_rate = 0.08\n",
    "total_cost = f\"The total cost is ${price * (1 + tax_rate):.2f}.\"\n",
    "# The :.2f formats the number to two decimal places\n",
    "print(total_cost) # Output: The total cost is $21.59."
   ]
  },
  {
   "cell_type": "markdown",
   "id": "6661ac20",
   "metadata": {},
   "source": [
    "#### 1. The Basics: if, else, and elif\n",
    "At its core, the if-else statement checks a condition. If the condition is true, a block of code is executed. Otherwise, if there's an else statement, its block of code is executed."
   ]
  },
  {
   "cell_type": "code",
   "execution_count": 4,
   "id": "26134e66",
   "metadata": {},
   "outputs": [
    {
     "name": "stdout",
     "output_type": "stream",
     "text": [
      "You are an adult.\n",
      "This line always executes.\n"
     ]
    }
   ],
   "source": [
    "# Example 1.1: Simple if statement\n",
    "\n",
    "\"\"\"Explanation:\n",
    "\n",
    "The if keyword is followed by a condition (age >= 18).\n",
    "\n",
    "A colon : marks the end of the if statement.\n",
    "\n",
    "The code to be executed if the condition is true is indented. Indentation is crucial in Python; it defines code blocks.\n",
    "\n",
    "\"\"\"\n",
    "\n",
    "age = 20\n",
    "\n",
    "if age >= 18:\n",
    "    print(\"You are an adult.\")\n",
    "\n",
    "print(\"This line always executes.\")"
   ]
  },
  {
   "cell_type": "code",
   "execution_count": 6,
   "id": "c55f7ffb",
   "metadata": {},
   "outputs": [
    {
     "name": "stdout",
     "output_type": "stream",
     "text": [
      "It's not too hot.\n"
     ]
    }
   ],
   "source": [
    "# Example 1.2: if-else statement\n",
    "\n",
    "\"\"\"Explanation:\n",
    "\n",
    "If temperature > 30 is true, the first print statement executes.\n",
    "\n",
    "If temperature > 30 is false, the else block executes.\n",
    "\n",
    "1.3 if-elif-else Statement (Chained Conditionals)\"\"\"\n",
    "\n",
    "temperature = 25\n",
    "\n",
    "if temperature > 30:\n",
    "    print(\"It's hot outside!\")\n",
    "else:\n",
    "    print(\"It's not too hot.\")"
   ]
  },
  {
   "cell_type": "code",
   "execution_count": 9,
   "id": "d5564066",
   "metadata": {},
   "outputs": [
    {
     "name": "stdout",
     "output_type": "stream",
     "text": [
      "Grade: B\n"
     ]
    }
   ],
   "source": [
    "# Example 1.3: if-elif-else statement\n",
    "\n",
    "\"\"\"Explanation:\n",
    "\n",
    "The conditions are checked from top to bottom.\n",
    "\n",
    "The first if or elif condition that evaluates to True will have its block executed, and the rest of the elif and else blocks will be skipped.\n",
    "\n",
    "If none of the if or elif conditions are true, the else block (if present) is executed.\"\"\"\n",
    "\n",
    "score = 85\n",
    "\n",
    "if score >= 90:\n",
    "    print(\"Grade: A\")\n",
    "elif score >= 80:\n",
    "    print(\"Grade: B\")\n",
    "elif score >= 70:\n",
    "    print(\"Grade: C\")\n",
    "else:\n",
    "    print(\"Grade: F\")"
   ]
  },
  {
   "cell_type": "markdown",
   "id": "ceb443b7",
   "metadata": {},
   "source": [
    "#### Nested if-else Statements\n",
    "You can place if-else statements inside other if-else statements. This is called nesting."
   ]
  },
  {
   "cell_type": "code",
   "execution_count": 11,
   "id": "2abaa442",
   "metadata": {},
   "outputs": [
    {
     "name": "stdout",
     "output_type": "stream",
     "text": [
      "Eligible to drive based on age.\n",
      "You can legally drive.\n"
     ]
    }
   ],
   "source": [
    "# Example 3.1: Nested if-else\n",
    "\n",
    "\"\"\"Explanation:\n",
    "\n",
    "The inner if-else block (if has_license: ...) is only evaluated if the outer if condition (if age >= 18:) is true.\n",
    "\n",
    "While useful, excessive nesting can make code harder to read and maintain.\n",
    "\"\"\"\n",
    "\n",
    "\n",
    "age = 25\n",
    "has_license = True\n",
    "\n",
    "if age >= 18:\n",
    "    print(\"Eligible to drive based on age.\")\n",
    "    if has_license:\n",
    "        print(\"You can legally drive.\")\n",
    "    else:\n",
    "        print(\"You need a license to drive.\")\n",
    "else:\n",
    "    print(\"You are too young to drive.\")"
   ]
  },
  {
   "cell_type": "markdown",
   "id": "b18af6bb",
   "metadata": {},
   "source": [
    "#### 4. Logical Operators: and, or, not\n",
    "You can combine multiple conditions using logical operators"
   ]
  },
  {
   "cell_type": "code",
   "execution_count": 12,
   "id": "c873495c",
   "metadata": {},
   "outputs": [
    {
     "name": "stdout",
     "output_type": "stream",
     "text": [
      "You qualify for the loan.\n"
     ]
    }
   ],
   "source": [
    "# Example 4.1: 'and' operator\n",
    "\n",
    "age = 25\n",
    "income = 50000\n",
    "\n",
    "if age >= 21 and income >= 40000:\n",
    "    print(\"You qualify for the loan.\")\n",
    "else:\n",
    "    print(\"You do not qualify for the loan.\")"
   ]
  },
  {
   "cell_type": "code",
   "execution_count": 14,
   "id": "337a31a0",
   "metadata": {},
   "outputs": [
    {
     "name": "stdout",
     "output_type": "stream",
     "text": [
      "It's a weekend or a holiday!\n"
     ]
    }
   ],
   "source": [
    "# Returns True if at least one condition is true.\n",
    "# Example 4.2: 'or' operator\n",
    "\n",
    "day = \"Sunday\"\n",
    "is_holiday = True\n",
    "\n",
    "if day == \"Saturday\" or day == \"Sunday\" or is_holiday:\n",
    "    print(\"It's a weekend or a holiday!\")\n",
    "else:\n",
    "    print(\"It's a weekday.\")"
   ]
  },
  {
   "cell_type": "markdown",
   "id": "9f63c6c1",
   "metadata": {},
   "source": [
    "#### not Operator\n",
    "Reverses the boolean value of a condition.\n",
    "\n"
   ]
  },
  {
   "cell_type": "code",
   "execution_count": 15,
   "id": "86d21327",
   "metadata": {},
   "outputs": [
    {
     "name": "stdout",
     "output_type": "stream",
     "text": [
      "Let's go for a walk!\n"
     ]
    }
   ],
   "source": [
    "# Example 4.3: 'not' operator\n",
    "\n",
    "is_raining = False\n",
    "\n",
    "if not is_raining:\n",
    "    print(\"Let's go for a walk!\")\n",
    "else:\n",
    "    print(\"Stay indoors.\")"
   ]
  },
  {
   "cell_type": "code",
   "execution_count": null,
   "id": "9be06fc8",
   "metadata": {},
   "outputs": [],
   "source": []
  }
 ],
 "metadata": {
  "kernelspec": {
   "display_name": "Python 3",
   "language": "python",
   "name": "python3"
  },
  "language_info": {
   "codemirror_mode": {
    "name": "ipython",
    "version": 3
   },
   "file_extension": ".py",
   "mimetype": "text/x-python",
   "name": "python",
   "nbconvert_exporter": "python",
   "pygments_lexer": "ipython3",
   "version": "3.11.12"
  }
 },
 "nbformat": 4,
 "nbformat_minor": 5
}
