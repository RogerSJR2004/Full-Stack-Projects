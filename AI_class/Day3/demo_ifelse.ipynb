{
 "cells": [
  {
   "cell_type": "code",
   "execution_count": 4,
   "id": "3014754f",
   "metadata": {},
   "outputs": [],
   "source": [
    "age = 17\n",
    "\n",
    "if age >=18:\n",
    "    print(\"You are Elilgible to vote \")"
   ]
  },
  {
   "cell_type": "code",
   "execution_count": 7,
   "id": "fad0abf0",
   "metadata": {},
   "outputs": [
    {
     "name": "stdout",
     "output_type": "stream",
     "text": [
      "You are Elilgible to vote \n"
     ]
    }
   ],
   "source": [
    "age = 22\n",
    "\n",
    "if age >=18:\n",
    "    print(\"You are Elilgible to vote \")\n",
    "else:\n",
    "    print(\"you are not Elilgible to vote\")"
   ]
  },
  {
   "cell_type": "code",
   "execution_count": null,
   "id": "d4cbc253",
   "metadata": {},
   "outputs": [
    {
     "name": "stdout",
     "output_type": "stream",
     "text": [
      "Grade:B\n"
     ]
    }
   ],
   "source": [
    "\n",
    "mark = 85\n",
    "\n",
    "if mark>=90:\n",
    "    print(\"Grade:A\")\n",
    "elif mark>=75:\n",
    "    print(\"Grade:B\")\n",
    "elif mark>=60:\n",
    "    print(\"Grade:C\")\n",
    "else:\n",
    "    print(\"Grade:D\")\n"
   ]
  },
  {
   "cell_type": "code",
   "execution_count": 12,
   "id": "d8cff803",
   "metadata": {},
   "outputs": [
    {
     "name": "stdout",
     "output_type": "stream",
     "text": [
      "Your marks are  78\n"
     ]
    }
   ],
   "source": [
    "a= int(input(\"Enter your marks \"))\n",
    "print(\"Your marks are \", a)\n"
   ]
  },
  {
   "cell_type": "code",
   "execution_count": null,
   "id": "62ec591c",
   "metadata": {},
   "outputs": [],
   "source": []
  }
 ],
 "metadata": {
  "kernelspec": {
   "display_name": "Python 3",
   "language": "python",
   "name": "python3"
  },
  "language_info": {
   "codemirror_mode": {
    "name": "ipython",
    "version": 3
   },
   "file_extension": ".py",
   "mimetype": "text/x-python",
   "name": "python",
   "nbconvert_exporter": "python",
   "pygments_lexer": "ipython3",
   "version": "3.11.12"
  }
 },
 "nbformat": 4,
 "nbformat_minor": 5
}
