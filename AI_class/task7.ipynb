{
 "cells": [
  {
   "cell_type": "markdown",
   "id": "ff6c67fd",
   "metadata": {},
   "source": [
    "# Python Regex (Regular Expressions) Assignments"
   ]
  },
  {
   "cell_type": "code",
   "execution_count": null,
   "id": "12b5396c",
   "metadata": {},
   "outputs": [],
   "source": [
    "import re\n",
    "# ==== Full ah GPT code - concept konjam puriyala === #\n",
    "\n",
    "# Check if a string contains only letters (a-z, A-Z)\n",
    "def is_only_letters(s):\n",
    "    return bool(re.fullmatch(r'[A-Za-z]+', s))\n",
    "\n",
    "# Check if a string contains a valid email address\n",
    "def contains_email(s):\n",
    "    return bool(re.search(r'[A-Za-z0-9._%+-]+@[A-Za-z0-9.-]+\\.[A-Za-z]{2,}', s))\n",
    "\n",
    "# Extract all numbers from a given string\n",
    "def extract_numbers(s):\n",
    "    return re.findall(r'\\d+', s)\n",
    "\n",
    "# Find all words starting with a capital letter in a text\n",
    "def capital_words(s):\n",
    "    return re.findall(r'\\b[A-Z][a-zA-Z]*\\b', s)\n",
    "\n",
    "# Validate a phone number (10-digit number)\n",
    "def is_valid_phone(s):\n",
    "    return bool(re.fullmatch(r'\\d{10}', s))\n",
    "\n",
    "# Split a string where there is a space, comma, or semicolon\n",
    "def split_string(s):\n",
    "    return re.split(r'[ ,;]+', s)\n",
    "\n",
    "# Remove all non-alphanumeric characters from a string\n",
    "def remove_non_alphanumeric(s):\n",
    "    return re.sub(r'[^A-Za-z0-9]', '', s)\n",
    "\n",
    "# Extract dates in 'dd-mm-yyyy' format from a given text\n",
    "def extract_dates(s):\n",
    "    return re.findall(r'\\b\\d{2}-\\d{2}-\\d{4}\\b', s)\n",
    "\n",
    "# Find and replace all occurrences of a word in a text using regex\n",
    "def replace_word(s, old, new):\n",
    "    return re.sub(rf'\\b{re.escape(old)}\\b', new, s)\n",
    "\n",
    "# Validate a strong password\n",
    "def is_strong_password(s):\n",
    "    return bool(re.fullmatch(r'(?=.*[a-z])(?=.*[A-Z])(?=.*\\d)(?=.*[^A-Za-z0-9]).{8,}', s))"
   ]
  }
 ],
 "metadata": {
  "language_info": {
   "name": "python"
  }
 },
 "nbformat": 4,
 "nbformat_minor": 5
}
