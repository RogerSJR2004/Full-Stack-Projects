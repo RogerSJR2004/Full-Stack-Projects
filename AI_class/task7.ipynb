{
 "cells": [
  {
   "cell_type": "markdown",
   "id": "ff6c67fd",
   "metadata": {},
   "source": [
    "# Python Regex (Regular Expressions) Assignments"
   ]
  },
  {
   "cell_type": "code",
   "execution_count": null,
   "id": "763c684f",
   "metadata": {},
   "outputs": [],
   "source": []
  }
 ],
 "metadata": {
  "language_info": {
   "name": "python"
  }
 },
 "nbformat": 4,
 "nbformat_minor": 5
}
