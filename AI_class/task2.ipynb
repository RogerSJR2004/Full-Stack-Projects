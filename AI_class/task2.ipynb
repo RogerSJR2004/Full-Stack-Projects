{
 "cells": [
  {
   "cell_type": "code",
   "execution_count": 2,
   "id": "fffe9099",
   "metadata": {},
   "outputs": [
    {
     "name": "stdout",
     "output_type": "stream",
     "text": [
      "1. ['apple', 'banana', 'orange', 'mango', 'kiwi']\n",
      "2. ['apple', 'banana', 'orange', 'mango', 'kiwi', 'grapes']\n",
      "3. ['apple', 'watermelon', 'banana', 'orange', 'mango', 'kiwi', 'grapes']\n",
      "4. ['apple', 'watermelon', 'banana', 'orange', 'mango', 'kiwi', 'grapes', 'pineapple', 'papaya']\n",
      "5. ['apple', 'watermelon', 'orange', 'mango', 'kiwi', 'grapes', 'pineapple', 'papaya']\n",
      "6. Popped: papaya\n",
      " List after pop: ['apple', 'watermelon', 'orange', 'mango', 'kiwi', 'grapes', 'pineapple']\n",
      "7. ['apple', 'grapes', 'kiwi', 'mango', 'orange', 'pineapple', 'watermelon']\n",
      "8. ['watermelon', 'pineapple', 'orange', 'mango', 'kiwi', 'grapes', 'apple']\n",
      "9. 'apple' occurs 1 times\n",
      "10. ['watermelon', 'pineapple', 'orange']\n"
     ]
    }
   ],
   "source": [
    "#Create a list of 5 fruits and print the list.\n",
    "fruits = [\"apple\", \"banana\", \"orange\", \"mango\", \"kiwi\"]\n",
    "print(\"1.\", fruits)\n",
    "\n",
    "# Add “grapes” to the end of the list using append().\n",
    "fruits.append(\"grapes\")\n",
    "print(\"2.\", fruits)\n",
    "\n",
    "# Insert “watermelon” at the 2nd position in the list.\n",
    "fruits.insert(1, \"watermelon\")\n",
    "print(\"3.\", fruits)\n",
    "\n",
    "# Extend the list with another list [\"pineapple\", \"papaya\"].\n",
    "fruits.extend([\"pineapple\", \"papaya\"])\n",
    "print(\"4.\", fruits)\n",
    "\n",
    "# Remove “banana” from the list using remove().\n",
    "fruits.remove(\"banana\")\n",
    "print(\"5.\", fruits)\n",
    "\n",
    "#  Pop the last element from the list and print it.\n",
    "last_fruit = fruits.pop()\n",
    "print(\"6. Popped:\", last_fruit)\n",
    "print(\" List after pop:\", fruits)\n",
    "\n",
    "#Sort the list in alphabetical order using sort().\n",
    "fruits.sort()\n",
    "print(\"7.\", fruits)\n",
    "\n",
    "#Reverse the list using reverse().\n",
    "fruits.reverse()\n",
    "print(\"8.\", fruits)\n",
    "\n",
    "#Count how many times “apple” occurs in the list.\n",
    "apple_count = fruits.count(\"apple\")\n",
    "print(\"9. 'apple' occurs\", apple_count, \"times\")\n",
    "\n",
    "# Slice the list and print only the first three elements.\n",
    "first_three = fruits[:3]\n",
    "print(\"10.\", first_three)"
   ]
  },
  {
   "cell_type": "code",
   "execution_count": 1,
   "id": "1a5281b9",
   "metadata": {},
   "outputs": [
    {
     "name": "stdout",
     "output_type": "stream",
     "text": [
      "1. ('New York', 'London', 'Mumbai', 'Tokyo', 'Sydney')\n",
      "2. 3rd city: Mumbai\n",
      "3. Contains 'Mumbai': True\n",
      "5. ('cat', 'dog', 'parrot', 'rabbit')\n",
      "6. ('cat', 'dog', 'cat', 'dog', 'cat', 'dog')\n",
      "7. Length of cities tuple: 5\n",
      "8. ['New York', 'London', 'Mumbai', 'Tokyo', 'Sydney']\n",
      "9. red green blue\n",
      "10. Inner element: 4\n"
     ]
    }
   ],
   "source": [
    "# Create a tuple of 5 city names and print it.\n",
    "cities = (\"New York\", \"London\", \"Mumbai\", \"Tokyo\", \"Sydney\")\n",
    "print(\"1.\", cities)\n",
    "\n",
    "# Access the 3rd item from the tuple using indexing.\n",
    "third_city = cities[2]\n",
    "print(\"2. 3rd city:\", third_city)\n",
    "\n",
    "# Check if “Mumbai” exists in the tuple.\n",
    "has_mumbai = \"Mumbai\" in cities\n",
    "print(\"3. Contains 'Mumbai':\", has_mumbai)\n",
    "\n",
    "# Fourth one don't know\n",
    "\n",
    "# Concatenate two tuples: (\"cat\", \"dog\") and (\"parrot\", \"rabbit\").\n",
    "animals1 = (\"cat\", \"dog\")\n",
    "animals2 = (\"parrot\", \"rabbit\")\n",
    "all_animals = animals1 + animals2\n",
    "print(\"5.\", all_animals)\n",
    "\n",
    "# Repeat a tuple 3 times using the * operator.\n",
    "repeated = animals1 * 3\n",
    "print(\"6.\", repeated)\n",
    "\n",
    "# Use len() to find the length of the tuple.\n",
    "length = len(cities)\n",
    "print(\"7. Length of cities tuple:\", length)\n",
    "\n",
    "# Convert a tuple to a list and print it.\n",
    "cities_list = list(cities)\n",
    "print(\"8.\", cities_list)\n",
    "\n",
    "# Unpack a tuple of 3 values into 3 variables.\n",
    "rgb = (\"red\", \"green\", \"blue\")\n",
    "r, g, b = rgb\n",
    "print(\"9.\", r, g, b)\n",
    "\n",
    "# Create a nested tuple and access the inner element.\n",
    "nested = (1, 2, (3, 4, 5))\n",
    "inner_element = nested[2][1]\n",
    "print(\"10. Inner element:\", inner_element)"
   ]
  },
  {
   "cell_type": "code",
   "execution_count": 3,
   "id": "5e900d6e",
   "metadata": {},
   "outputs": [
    {
     "name": "stdout",
     "output_type": "stream",
     "text": [
      "1. {'yellow', 'blue', 'red', 'green', 'orange'}\n",
      "2. {'yellow', 'black', 'blue', 'red', 'green', 'orange'}\n",
      "3. {'yellow', 'black', 'blue', 'red', 'green', 'orange', 'white', 'purple'}\n",
      "4. {'yellow', 'black', 'blue', 'green', 'orange', 'white', 'purple'}\n",
      "5. {'yellow', 'black', 'blue', 'green', 'white', 'purple'}\n",
      "6. Popped: yellow\n",
      "   Set after pop: {'black', 'blue', 'green', 'white', 'purple'}\n",
      "7. Union: {1, 2, 3, 4, 5}\n",
      "8. Intersection: {3}\n",
      "9. Difference: {1, 2}\n",
      "10. Cleared set: set()\n"
     ]
    }
   ],
   "source": [
    "# Create a set of colors and print it.\n",
    "colors = {\"red\", \"green\", \"blue\", \"yellow\", \"orange\"}\n",
    "print(\"1.\", colors)\n",
    "\n",
    "# Add “black” to the set using add().\n",
    "colors.add(\"black\")\n",
    "print(\"2.\", colors)\n",
    "\n",
    "# Add multiple items using update().\n",
    "colors.update({\"white\", \"purple\"})\n",
    "print(\"3.\", colors)\n",
    "\n",
    "# Remove “red” from the set using remove().\n",
    "colors.remove(\"red\")\n",
    "print(\"4.\", colors)\n",
    "\n",
    "# Safely discard “orange” from the set using discard().\n",
    "colors.discard(\"orange\")\n",
    "print(\"5.\", colors)\n",
    "\n",
    "# Use pop() to remove a random item and print the set.\n",
    "popped_color = colors.pop()\n",
    "print(\"6. Popped:\", popped_color)\n",
    "print(\"   Set after pop:\", colors)\n",
    "\n",
    "# Find the union of two sets\n",
    "set1 = {1, 2, 3}\n",
    "set2 = {3, 4, 5}\n",
    "union_set = set1.union(set2)\n",
    "print(\"7. Union:\", union_set)\n",
    "\n",
    "# Find the intersection of two sets.\n",
    "intersection_set = set1.intersection(set2)\n",
    "print(\"8. Intersection:\", intersection_set)\n",
    "\n",
    "# Find the difference between set1 and set2.\n",
    "difference_set = set1.difference(set2)\n",
    "print(\"9. Difference:\", difference_set)\n",
    "\n",
    "# Clear all items from a set using clear() and print it.\n",
    "colors.clear()\n",
    "print(\"10. Cleared set:\", colors)"
   ]
  },
  {
   "cell_type": "code",
   "execution_count": 11,
   "id": "101bc2c9",
   "metadata": {},
   "outputs": [
    {
     "name": "stdout",
     "output_type": "stream",
     "text": [
      "Grade: B\n"
     ]
    }
   ],
   "source": [
    "mark = int(input(\"Enter 'mark' to finish: \"))\n",
    "if mark >= 90:\n",
    "    print(\"Grade: A\")\n",
    "elif mark >= 80:\n",
    "    print(\"Grade: B\")\n",
    "elif mark >= 70:\n",
    "    print(\"Grade: C\")\n",
    "elif mark >= 60:\n",
    "    print(\"Grade: D\")"
   ]
  },
  {
   "cell_type": "code",
   "execution_count": null,
   "id": "8d94f61d",
   "metadata": {},
   "outputs": [
    {
     "name": "stdout",
     "output_type": "stream",
     "text": [
      "Your BMI is: 25.36\n",
      "Category: Overweight\n"
     ]
    }
   ],
   "source": [
    "# BMI calculator\n",
    "weight = float(input(\"Enter your weight in kilograms: \"))\n",
    "height_cm = float(input(\"Enter your height in cm: \"))\n",
    "height = height_cm / 100 \n",
    "bmi = weight / (height ** 2)\n",
    "print(\"Your BMI is:\", round(bmi, 2))\n",
    "\n",
    "if bmi < 18.5:\n",
    "    print(\"Category: Underweight\")\n",
    "elif bmi < 25:\n",
    "    print(\"Category: Normal weight\")\n",
    "elif bmi < 30:\n",
    "    print(\"Category: Overweight\")\n",
    "else:\n",
    "    print(\"Category: Obese\")"
   ]
  }
 ],
 "metadata": {
  "kernelspec": {
   "display_name": "base",
   "language": "python",
   "name": "python3"
  },
  "language_info": {
   "codemirror_mode": {
    "name": "ipython",
    "version": 3
   },
   "file_extension": ".py",
   "mimetype": "text/x-python",
   "name": "python",
   "nbconvert_exporter": "python",
   "pygments_lexer": "ipython3",
   "version": "3.11.7"
  }
 },
 "nbformat": 4,
 "nbformat_minor": 5
}
