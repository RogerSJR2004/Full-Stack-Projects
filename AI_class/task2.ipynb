{
 "cells": [
  {
   "cell_type": "code",
   "execution_count": 21,
   "id": "844d5789",
   "metadata": {},
   "outputs": [
    {
     "name": "stdout",
     "output_type": "stream",
     "text": [
      "['apple', 'banana', 'orange', 'mango', 'kiwi']\n"
     ]
    }
   ],
   "source": [
    "fruits = [\"apple\", \"banana\", \"orange\", \"mango\", \"kiwi\"]\n",
    "print(fruits)"
   ]
  },
  {
   "cell_type": "code",
   "execution_count": 22,
   "metadata": {},
   "outputs": [
    {
     "name": "stdout",
     "output_type": "stream",
     "text": [
      "['apple', 'banana', 'orange', 'mango', 'kiwi', 'grapes']\n"
     ]
    }
   ],
   "source": [
    "fruits.append(\"grapes\")\n",
    "print( fruits)"
   ]
  },
  {
   "cell_type": "code",
   "execution_count": 23,
   "id": "fdf15279",
   "metadata": {},
   "outputs": [
    {
     "name": "stdout",
     "output_type": "stream",
     "text": [
      "['apple', 'watermelon', 'banana', 'orange', 'mango', 'kiwi', 'grapes']\n"
     ]
    }
   ],
   "source": [
    "fruits.insert(1, \"watermelon\")\n",
    "print( fruits)"
   ]
  },
  {
   "cell_type": "code",
   "execution_count": 24,
   "id": "01124dbf",
   "metadata": {},
   "outputs": [
    {
     "name": "stdout",
     "output_type": "stream",
     "text": [
      "['apple', 'watermelon', 'banana', 'orange', 'mango', 'kiwi', 'grapes', 'pineapple', 'papaya']\n"
     ]
    }
   ],
   "source": [
    "fruits.extend([\"pineapple\", \"papaya\"])\n",
    "print( fruits)"
   ]
  },
  {
   "cell_type": "code",
   "execution_count": 25,
   "metadata": {},
   "outputs": [
    {
     "name": "stdout",
     "output_type": "stream",
     "text": [
      "['apple', 'watermelon', 'orange', 'mango', 'kiwi', 'grapes', 'pineapple', 'papaya']\n"
     ]
    }
   ],
   "source": [
    "fruits.remove(\"banana\")\n",
    "print( fruits)"
   ]
  },
  {
   "cell_type": "code",
   "execution_count": 26,
   "id": "ddc4666d",
   "metadata": {},
   "outputs": [
    {
     "name": "stdout",
     "output_type": "stream",
     "text": [
      "Popped: papaya\n",
      " List after pop: ['apple', 'watermelon', 'orange', 'mango', 'kiwi', 'grapes', 'pineapple']\n"
     ]
    }
   ],
   "source": [
    "last_fruit = fruits.pop()\n",
    "print(\"Popped:\", last_fruit)\n",
    "print(\" List after pop:\", fruits)"
   ]
  },
  {
   "cell_type": "code",
   "execution_count": 27,
   "metadata": {},
   "outputs": [
    {
     "name": "stdout",
     "output_type": "stream",
     "text": [
      "7. ['apple', 'grapes', 'kiwi', 'mango', 'orange', 'pineapple', 'watermelon']\n"
     ]
    }
   ],
   "source": [
    "fruits.sort()\n",
    "print(\"7.\", fruits)"
   ]
  },
  {
   "cell_type": "code",
   "execution_count": 28,
   "id": "2a6d18c9",
   "metadata": {},
   "outputs": [
    {
     "name": "stdout",
     "output_type": "stream",
     "text": [
      "['watermelon', 'pineapple', 'orange', 'mango', 'kiwi', 'grapes', 'apple']\n"
     ]
    }
   ],
   "source": [
    "fruits.reverse()\n",
    "print( fruits)"
   ]
  },
  {
   "cell_type": "code",
   "execution_count": 29,
   "id": "5251697c",
   "metadata": {},
   "outputs": [
    {
     "name": "stdout",
     "output_type": "stream",
     "text": [
      " 'apple' occurs 1 times\n"
     ]
    }
   ],
   "source": [
    "apple_count = fruits.count(\"apple\")\n",
    "print(\" 'apple' occurs\", apple_count, \"times\")"
   ]
  },
  {
   "cell_type": "code",
   "execution_count": 30,
   "metadata": {},
   "outputs": [
    {
     "name": "stdout",
     "output_type": "stream",
     "text": [
      "['watermelon', 'pineapple', 'orange']\n"
     ]
    }
   ],
   "source": [
    "first_three = fruits[:3]\n",
    "print( first_three)# print only the first three elements."
   ]
  },
  {
   "cell_type": "code",
   "execution_count": null,
   "id": "74b5ead4",
   "metadata": {},
   "outputs": [],
   "source": []
  },
  {
   "cell_type": "markdown",
   "id": "083a74a2",
   "metadata": {},
   "source": [
    "# tuple "
   ]
  },
  {
   "cell_type": "code",
   "execution_count": 31,
   "metadata": {},
   "outputs": [
    {
     "name": "stdout",
     "output_type": "stream",
     "text": [
      "('New York', 'London', 'Mumbai', 'Tokyo', 'Sydney')\n"
     ]
    }
   ],
   "source": [
    "cities = (\"New York\", \"London\", \"Mumbai\", \"Tokyo\", \"Sydney\")\n",
    "print(cities)"
   ]
  },
  {
   "cell_type": "code",
   "execution_count": 32,
   "id": "6f966186",
   "metadata": {},
   "outputs": [
    {
     "name": "stdout",
     "output_type": "stream",
     "text": [
      "3rd city: Mumbai\n"
     ]
    }
   ],
   "source": [
    "third_city = cities[2]\n",
    "print(\"3rd city:\", third_city)"
   ]
  },
  {
   "cell_type": "code",
   "execution_count": 33,
   "metadata": {},
   "outputs": [
    {
     "name": "stdout",
     "output_type": "stream",
     "text": [
      "Contains 'Mumbai': True\n"
     ]
    }
   ],
   "source": [
    "has_mumbai = \"Mumbai\" in cities\n",
    "print(\"Contains 'Mumbai':\", has_mumbai)"
   ]
  },
  {
   "cell_type": "code",
   "execution_count": 34,
   "id": "28a9842f",
   "metadata": {},
   "outputs": [],
   "source": [
    "# Fourth one don't know"
   ]
  },
  {
   "cell_type": "code",
   "execution_count": 35,
   "id": "77c1b074",
   "metadata": {},
   "outputs": [
    {
     "name": "stdout",
     "output_type": "stream",
     "text": [
      "('cat', 'dog', 'parrot', 'rabbit')\n"
     ]
    }
   ],
   "source": [
    "animals1 = (\"cat\", \"dog\")\n",
    "animals2 = (\"parrot\", \"rabbit\")\n",
    "all_animals = animals1 + animals2\n",
    "print( all_animals)"
   ]
  },
  {
   "cell_type": "code",
   "execution_count": 36,
   "id": "a9c11dd8",
   "metadata": {},
   "outputs": [
    {
     "name": "stdout",
     "output_type": "stream",
     "text": [
      "('cat', 'dog', 'cat', 'dog', 'cat', 'dog')\n"
     ]
    }
   ],
   "source": [
    "repeated = animals1 * 3\n",
    "\n",
    "print( repeated)"
   ]
  },
  {
   "cell_type": "code",
   "execution_count": 37,
   "metadata": {},
   "outputs": [
    {
     "name": "stdout",
     "output_type": "stream",
     "text": [
      "Length of cities tuple: 5\n"
     ]
    }
   ],
   "source": [
    "length = len(cities)\n",
    "print(\"Length of cities tuple:\", length)"
   ]
  },
  {
   "cell_type": "code",
   "execution_count": 38,
   "metadata": {},
   "outputs": [
    {
     "name": "stdout",
     "output_type": "stream",
     "text": [
      "['New York', 'London', 'Mumbai', 'Tokyo', 'Sydney']\n"
     ]
    }
   ],
   "source": [
    "cities_list = list(cities)\n",
    "\n",
    "print(cities_list)"
   ]
  },
  {
   "cell_type": "code",
   "execution_count": 39,
   "id": "c5488141",
   "metadata": {},
   "outputs": [
    {
     "name": "stdout",
     "output_type": "stream",
     "text": [
      "red green blue\n"
     ]
    }
   ],
   "source": [
    "rgb = (\"red\", \"green\", \"blue\")\n",
    "r, g, b = rgb\n",
    "print( r, g, b)\n"
   ]
  },
  {
   "cell_type": "code",
   "execution_count": 40,
   "id": "0bf8ec72",
   "metadata": {},
   "outputs": [
    {
     "name": "stdout",
     "output_type": "stream",
     "text": [
      "Inner element: 4\n"
     ]
    }
   ],
   "source": [
    "nested = (1, 2, (3, 4, 5))\n",
    "inner_element = nested[2][1]\n",
    "print(\"Inner element:\", inner_element)"
   ]
  },
  {
   "cell_type": "markdown",
   "id": "5e4fc86b",
   "metadata": {},
   "source": [
    "# Set"
   ]
  },
  {
   "cell_type": "code",
   "execution_count": 41,
   "id": "209e9173",
   "metadata": {},
   "outputs": [
    {
     "name": "stdout",
     "output_type": "stream",
     "text": [
      "{'yellow', 'green', 'red', 'orange', 'blue'}\n"
     ]
    }
   ],
   "source": [
    "colors = {\"red\", \"green\", \"blue\", \"yellow\", \"orange\"}\n",
    "print(colors)\n"
   ]
  },
  {
   "cell_type": "code",
   "execution_count": 42,
   "metadata": {},
   "outputs": [
    {
     "name": "stdout",
     "output_type": "stream",
     "text": [
      "{'yellow', 'green', 'red', 'orange', 'black', 'blue'}\n"
     ]
    }
   ],
   "source": [
    "colors.add(\"black\")\n",
    "print(colors)"
   ]
  },
  {
   "cell_type": "code",
   "execution_count": 43,
   "metadata": {},
   "outputs": [
    {
     "name": "stdout",
     "output_type": "stream",
     "text": [
      "{'yellow', 'green', 'red', 'white', 'orange', 'black', 'purple', 'blue'}\n"
     ]
    }
   ],
   "source": [
    "colors.update({\"white\", \"purple\"})\n",
    "print(colors)\n"
   ]
  },
  {
   "cell_type": "code",
   "execution_count": 44,
   "id": "c41b0fe9",
   "metadata": {},
   "outputs": [
    {
     "name": "stdout",
     "output_type": "stream",
     "text": [
      "{'yellow', 'green', 'white', 'orange', 'black', 'purple', 'blue'}\n"
     ]
    }
   ],
   "source": [
    "colors.remove(\"red\")\n",
    "print( colors)\n"
   ]
  },
  {
   "cell_type": "code",
   "execution_count": 45,
   "metadata": {},
   "outputs": [
    {
     "name": "stdout",
     "output_type": "stream",
     "text": [
      "{'yellow', 'green', 'white', 'black', 'purple', 'blue'}\n"
     ]
    }
   ],
   "source": [
    "colors.discard(\"orange\")\n",
    "print(colors)"
   ]
  },
  {
   "cell_type": "code",
   "execution_count": 46,
   "metadata": {},
   "outputs": [
    {
     "name": "stdout",
     "output_type": "stream",
     "text": [
      "Popped: yellow\n",
      " Set after pop: {'green', 'white', 'black', 'purple', 'blue'}\n"
     ]
    }
   ],
   "source": [
    "popped_color = colors.pop()\n",
    "print(\"Popped:\", popped_color)\n",
    "print(\" Set after pop:\", colors)"
   ]
  },
  {
   "cell_type": "code",
   "execution_count": 47,
   "id": "05d32b32",
   "metadata": {},
   "outputs": [
    {
     "name": "stdout",
     "output_type": "stream",
     "text": [
      "Union: {1, 2, 3, 4, 5}\n"
     ]
    }
   ],
   "source": [
    "set1 = {1, 2, 3}\n",
    "set2 = {3, 4, 5}\n",
    "union_set = set1.union(set2)\n",
    "print(\"Union:\", union_set)"
   ]
  },
  {
   "cell_type": "code",
   "execution_count": 48,
   "id": "254afd0b",
   "metadata": {},
   "outputs": [
    {
     "name": "stdout",
     "output_type": "stream",
     "text": [
      "Intersection: {3}\n"
     ]
    }
   ],
   "source": [
    "intersection_set = set1.intersection(set2)\n",
    "print(\"Intersection:\", intersection_set)"
   ]
  },
  {
   "cell_type": "code",
   "execution_count": 49,
   "metadata": {},
   "outputs": [
    {
     "name": "stdout",
     "output_type": "stream",
     "text": [
      "Difference: {1, 2}\n"
     ]
    }
   ],
   "source": [
    "difference_set = set1.difference(set2)\n",
    "print(\"Difference:\", difference_set)"
   ]
  },
  {
   "cell_type": "code",
   "execution_count": 50,
   "id": "2fa63e0e",
   "metadata": {},
   "outputs": [
    {
     "name": "stdout",
     "output_type": "stream",
     "text": [
      "Cleared set: set()\n"
     ]
    }
   ],
   "source": [
    "colors.clear()\n",
    "print(\"Cleared set:\", colors)"
   ]
  },
  {
   "cell_type": "markdown",
   "id": "40a53f8d",
   "metadata": {},
   "source": [
    "# Class Work"
   ]
  },
  {
   "cell_type": "code",
   "execution_count": 51,
   "id": "101bc2c9",
   "metadata": {},
   "outputs": [
    {
     "name": "stdout",
     "output_type": "stream",
     "text": [
      "Grade: B\n"
     ]
    }
   ],
   "source": [
    "mark = int(input(\"Enter 'mark' to finish: \"))\n",
    "if mark >= 90:\n",
    "    print(\"Grade: A\")\n",
    "elif mark >= 80:\n",
    "    print(\"Grade: B\")\n",
    "elif mark >= 70:\n",
    "    print(\"Grade: C\")\n",
    "elif mark >= 60:\n",
    "    print(\"Grade: D\")"
   ]
  },
  {
   "cell_type": "code",
   "execution_count": 52,
   "id": "8d94f61d",
   "metadata": {},
   "outputs": [
    {
     "name": "stdout",
     "output_type": "stream",
     "text": [
      "Your BMI is: 25.38\n",
      "Category: Overweight\n"
     ]
    }
   ],
   "source": [
    "# BMI calculator\n",
    "weight = float(input(\"Enter your weight in kilograms: \"))\n",
    "height_cm = float(input(\"Enter your height in cm: \"))\n",
    "height = height_cm / 100 \n",
    "bmi = weight / (height ** 2)\n",
    "print(\"Your BMI is:\", round(bmi, 2))\n",
    "\n",
    "if bmi < 18.5:\n",
    "    print(\"Category: Underweight\")\n",
    "elif bmi < 25:\n",
    "    print(\"Category: Normal weight\")\n",
    "elif bmi < 30:\n",
    "    print(\"Category: Overweight\")\n",
    "else:\n",
    "    print(\"Category: Obese\")"
   ]
  }
 ],
 "metadata": {
  "kernelspec": {
   "display_name": "Python 3",
   "language": "python",
   "name": "python3"
  },
  "language_info": {
   "codemirror_mode": {
    "name": "ipython",
    "version": 3
   },
   "file_extension": ".py",
   "mimetype": "text/x-python",
   "name": "python",
   "nbconvert_exporter": "python",
   "pygments_lexer": "ipython3",
   "version": "3.10.0"
  }
 },
 "nbformat": 4,
 "nbformat_minor": 5
}
