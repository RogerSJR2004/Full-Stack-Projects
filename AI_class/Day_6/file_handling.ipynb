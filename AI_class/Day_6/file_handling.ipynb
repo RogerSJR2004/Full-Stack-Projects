{
 "cells": [
  {
   "cell_type": "markdown",
   "id": "9e6d733b",
   "metadata": {},
   "source": [
    " 1. Introduction to File Handling\n",
    "    Why is file handling important?\n",
    "    To read, write, update, or delete data stored in files — such as .txt, .csv, .json, etc.\n",
    "\n",
    "    Python provides a built-in function open() to handle files."
   ]
  },
  {
   "cell_type": "code",
   "execution_count": null,
   "id": "47bcd06d",
   "metadata": {},
   "outputs": [],
   "source": [
    "# file Handler \n",
    "import os\n",
    "import sys\n",
    "# r - read\n",
    "# w - write\n",
    "# a - append\n",
    "\n",
    "x = open(\"test.txt\", \"r\")\n",
    "print(x.read())\n",
    "x.close() # close the file\n",
    "\n"
   ]
  },
  {
   "cell_type": "code",
   "execution_count": 21,
   "id": "1dd85040",
   "metadata": {},
   "outputs": [
    {
     "name": "stdout",
     "output_type": "stream",
     "text": [
      "File written successfully.\n"
     ]
    }
   ],
   "source": [
    "x= open(\"test.txt\", \"w\")\n",
    "x.write(\"This is a test file.\")\n",
    "print(\"File written successfully.\")\n",
    "x.close() # close the file"
   ]
  },
  {
   "cell_type": "code",
   "execution_count": 15,
   "id": "4fdde629",
   "metadata": {},
   "outputs": [
    {
     "name": "stdout",
     "output_type": "stream",
     "text": [
      "File appended successfully.\n"
     ]
    }
   ],
   "source": [
    "x= open(\"test.txt\", \"a\")\n",
    "x.write(\"\\nThis is an appended line.\")\n",
    "print(\"File appended successfully.\")\n",
    "x.close() # close the file"
   ]
  },
  {
   "cell_type": "code",
   "execution_count": 16,
   "id": "53da80c7",
   "metadata": {},
   "outputs": [
    {
     "name": "stdout",
     "output_type": "stream",
     "text": [
      "This is a test file.\n",
      "This is an appended line.\n",
      "This is an appended line.\n",
      "This is an appended line.\n"
     ]
    }
   ],
   "source": [
    "with open(\"test.txt\", \"r\") as x:\n",
    "    print(x.read())  # read the file content using context manager"
   ]
  },
  {
   "cell_type": "code",
   "execution_count": 20,
   "id": "7ca408ea",
   "metadata": {},
   "outputs": [
    {
     "name": "stdout",
     "output_type": "stream",
     "text": [
      "File does not exist.\n"
     ]
    }
   ],
   "source": [
    "import os\n",
    "if os.path.exists(\"test.txt\"):\n",
    "    print(\"File exists.\")\n",
    "else:\n",
    "    print(\"File does not exist.\")"
   ]
  },
  {
   "cell_type": "code",
   "execution_count": 19,
   "id": "98b4c308",
   "metadata": {},
   "outputs": [
    {
     "name": "stdout",
     "output_type": "stream",
     "text": [
      "File deleted successfully.\n"
     ]
    }
   ],
   "source": [
    "import os\n",
    "if os.path.exists(\"test.txt\"):\n",
    "    os.remove(\"test.txt\")\n",
    "    print(\"File deleted successfully.\")"
   ]
  },
  {
   "cell_type": "code",
   "execution_count": 23,
   "id": "4e2e3bc1",
   "metadata": {},
   "outputs": [
    {
     "name": "stdout",
     "output_type": "stream",
     "text": [
      "File created in new directory successfully.\n"
     ]
    }
   ],
   "source": [
    "import os\n",
    "if not os.path.exists(\"file_module13\"):\n",
    "    os.mkdir(\"file_module13\")\n",
    "with open(\"file_module13/test.txt\", \"w\") as x:\n",
    "    x.write(\"This is a test file in a new directory.\")\n",
    "    print(\"File created in new directory successfully.\")"
   ]
  },
  {
   "cell_type": "code",
   "execution_count": 25,
   "id": "d2d25a04",
   "metadata": {},
   "outputs": [
    {
     "data": {
      "text/plain": [
       "'daslkjfklsd'"
      ]
     },
     "execution_count": 25,
     "metadata": {},
     "output_type": "execute_result"
    }
   ],
   "source": [
    "\"daslkjfklsd\""
   ]
  },
  {
   "cell_type": "code",
   "execution_count": 27,
   "id": "73efa1c9",
   "metadata": {},
   "outputs": [
    {
     "name": "stdout",
     "output_type": "stream",
     "text": [
      "CSV file created successfully.\n"
     ]
    }
   ],
   "source": [
    "import csv\n",
    "data= [[\"Name\", \"Age\", \"City\"],\n",
    "        [\"Alice\", 30, \"New York\"],\n",
    "        [\"Bob\", 25, \"Los Angeles\"],\n",
    "        [\"Charlie\", 35, \"Chicago\"]]\n",
    "with open(\"data.csv\", \"w\", newline='') as csvfile:\n",
    "    writer = csv.writer(csvfile)\n",
    "    writer.writerows(data)\n",
    "    print(\"CSV file created successfully.\")\n"
   ]
  },
  {
   "cell_type": "code",
   "execution_count": null,
   "id": "12f540de",
   "metadata": {},
   "outputs": [],
   "source": []
  }
 ],
 "metadata": {
  "kernelspec": {
   "display_name": ".venv",
   "language": "python",
   "name": "python3"
  },
  "language_info": {
   "codemirror_mode": {
    "name": "ipython",
    "version": 3
   },
   "file_extension": ".py",
   "mimetype": "text/x-python",
   "name": "python",
   "nbconvert_exporter": "python",
   "pygments_lexer": "ipython3",
   "version": "3.11.9"
  }
 },
 "nbformat": 4,
 "nbformat_minor": 5
}
