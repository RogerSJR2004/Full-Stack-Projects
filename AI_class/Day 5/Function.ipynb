{
 "cells": [
  {
   "cell_type": "markdown",
   "id": "94288c8e",
   "metadata": {},
   "source": []
  },
  {
   "cell_type": "code",
   "execution_count": 33,
   "id": "960b9461",
   "metadata": {},
   "outputs": [],
   "source": [
    "def fuction_name():\n",
    "    \"\"\"\n",
    "    This function does nothing and is a placeholder.\n",
    "    \"\"\"\n",
    "    pass"
   ]
  },
  {
   "cell_type": "code",
   "execution_count": 6,
   "id": "a6527026",
   "metadata": {},
   "outputs": [],
   "source": [
    "def greet():\n",
    "    print(\"Hello, Welcome to the Python script!\")"
   ]
  },
  {
   "cell_type": "code",
   "execution_count": 11,
   "id": "eed2679f",
   "metadata": {},
   "outputs": [
    {
     "name": "stdout",
     "output_type": "stream",
     "text": [
      "Hello, Welcome to the Python script!\n",
      "Hello, Welcome to the Python script!\n"
     ]
    }
   ],
   "source": [
    "greet()\n",
    "greet()"
   ]
  },
  {
   "cell_type": "code",
   "execution_count": 34,
   "id": "5006157a",
   "metadata": {},
   "outputs": [],
   "source": [
    "def add_numbers(a,b):\n",
    "    c= a + b\n",
    "    print(c)\n",
    "\n",
    "   "
   ]
  },
  {
   "cell_type": "code",
   "execution_count": 35,
   "id": "19d9ed8e",
   "metadata": {},
   "outputs": [
    {
     "name": "stdout",
     "output_type": "stream",
     "text": [
      "300\n"
     ]
    }
   ],
   "source": [
    "add_numbers(100,200)"
   ]
  },
  {
   "cell_type": "code",
   "execution_count": 18,
   "id": "165d9082",
   "metadata": {},
   "outputs": [
    {
     "name": "stdout",
     "output_type": "stream",
     "text": [
      "110\n"
     ]
    }
   ],
   "source": [
    "add_numbers(100,10)"
   ]
  },
  {
   "cell_type": "code",
   "execution_count": 36,
   "id": "c07d890f",
   "metadata": {},
   "outputs": [],
   "source": [
    "def square(x):\n",
    "    return x * x"
   ]
  },
  {
   "cell_type": "code",
   "execution_count": 37,
   "id": "cba708ea",
   "metadata": {},
   "outputs": [
    {
     "name": "stdout",
     "output_type": "stream",
     "text": [
      "25\n",
      "100\n"
     ]
    }
   ],
   "source": [
    "print(square(5))\n",
    "print(square(10))\n"
   ]
  },
  {
   "cell_type": "code",
   "execution_count": 44,
   "id": "6215055b",
   "metadata": {},
   "outputs": [],
   "source": [
    "def greeting(name=\"student\"):\n",
    "    print(f\"Welcome, {name}!\")\n",
    "    "
   ]
  },
  {
   "cell_type": "code",
   "execution_count": 46,
   "id": "20f5367c",
   "metadata": {},
   "outputs": [
    {
     "name": "stdout",
     "output_type": "stream",
     "text": [
      "Welcome, Sarah!\n"
     ]
    }
   ],
   "source": [
    "greeting(\"Sarah\")"
   ]
  },
  {
   "cell_type": "code",
   "execution_count": 47,
   "id": "095b4371",
   "metadata": {},
   "outputs": [
    {
     "name": "stdout",
     "output_type": "stream",
     "text": [
      "Welcome, vincent!\n"
     ]
    }
   ],
   "source": [
    "greeting(\"vincent\")"
   ]
  },
  {
   "cell_type": "code",
   "execution_count": 48,
   "id": "8aa3d58c",
   "metadata": {},
   "outputs": [],
   "source": [
    "def introduction(name, age):\n",
    "    print(f\"Hello, my name is {name} and I am {age} years old.\")\n",
    "\n"
   ]
  },
  {
   "cell_type": "code",
   "execution_count": 49,
   "id": "61cd25f2",
   "metadata": {},
   "outputs": [
    {
     "name": "stdout",
     "output_type": "stream",
     "text": [
      "Hello, my name is Alice and I am 30 years old.\n"
     ]
    }
   ],
   "source": [
    "introduction(\"Alice\", 30)"
   ]
  },
  {
   "cell_type": "code",
   "execution_count": 53,
   "id": "336948cb",
   "metadata": {},
   "outputs": [
    {
     "name": "stdout",
     "output_type": "stream",
     "text": [
      "Hello, my name is 30 and I am Alice years old.\n"
     ]
    }
   ],
   "source": [
    "introduction(30, \"Alice\")"
   ]
  },
  {
   "cell_type": "code",
   "execution_count": 51,
   "id": "1922e09b",
   "metadata": {},
   "outputs": [
    {
     "name": "stdout",
     "output_type": "stream",
     "text": [
      "Hello, my name is Bob and I am 25 years old.\n"
     ]
    }
   ],
   "source": [
    "introduction(age=25, name=\"Bob\")"
   ]
  },
  {
   "cell_type": "code",
   "execution_count": 36,
   "id": "271d62bf",
   "metadata": {},
   "outputs": [],
   "source": [
    "def is_even(number):\n",
    "    if number % 2 == 0:\n",
    "        return True\n",
    "    else:\n",
    "        return False"
   ]
  },
  {
   "cell_type": "code",
   "execution_count": 37,
   "id": "54448a94",
   "metadata": {},
   "outputs": [
    {
     "data": {
      "text/plain": [
       "True"
      ]
     },
     "execution_count": 37,
     "metadata": {},
     "output_type": "execute_result"
    }
   ],
   "source": [
    "is_even(10)"
   ]
  },
  {
   "cell_type": "code",
   "execution_count": 38,
   "id": "ad817412",
   "metadata": {},
   "outputs": [
    {
     "data": {
      "text/plain": [
       "False"
      ]
     },
     "execution_count": 38,
     "metadata": {},
     "output_type": "execute_result"
    }
   ],
   "source": [
    "is_even(11)"
   ]
  },
  {
   "cell_type": "code",
   "execution_count": null,
   "id": "a0d3218d",
   "metadata": {},
   "outputs": [],
   "source": [
    "square =[\"Apple\", \"Orange\", \"Banana\", \"Grapes\"]\n",
    "def countdown_fruits():\n",
    "    for i in range(len(square)):\n",
    "        print(i)\n",
    "        print(square[i])"
   ]
  },
  {
   "cell_type": "code",
   "execution_count": 8,
   "id": "bab40ef8",
   "metadata": {},
   "outputs": [
    {
     "name": "stdout",
     "output_type": "stream",
     "text": [
      "0\n",
      "Apple\n",
      "1\n",
      "Orange\n",
      "2\n",
      "Banana\n",
      "3\n",
      "Grapes\n"
     ]
    }
   ],
   "source": [
    "countdown_fruits()"
   ]
  },
  {
   "cell_type": "code",
   "execution_count": 12,
   "id": "33c7ceaa",
   "metadata": {},
   "outputs": [
    {
     "name": "stdout",
     "output_type": "stream",
     "text": [
      "0 Apple\n",
      "1 Orange\n",
      "2 Banana\n",
      "3 Grapes\n"
     ]
    }
   ],
   "source": [
    "def countdown_fruits(square):\n",
    "    for i in range(0,len(square)):\n",
    "        print(i,square[i])\n",
    "\n",
    "\n",
    "square =[\"Apple\", \"Orange\", \"Banana\", \"Grapes\"]\n",
    "\n",
    "countdown_fruits(square)"
   ]
  },
  {
   "cell_type": "code",
   "execution_count": 16,
   "id": "f2b827d8",
   "metadata": {},
   "outputs": [],
   "source": [
    "# check if the person is eligible to vote\n",
    "def is_eligible_to_vote(age):\n",
    "    if age >= 18:\n",
    "        print(\"You are eligible to vote.\")\n",
    "    else:\n",
    "        print(\"You are not eligible to vote.\")"
   ]
  },
  {
   "cell_type": "markdown",
   "id": "93fbe44c",
   "metadata": {},
   "source": []
  },
  {
   "cell_type": "code",
   "execution_count": null,
   "id": "3fa201db",
   "metadata": {},
   "outputs": [
    {
     "name": "stdout",
     "output_type": "stream",
     "text": [
      "You are not eligible to vote.\n"
     ]
    }
   ],
   "source": [
    "is_eligible_to_vote(17)\n"
   ]
  },
  {
   "cell_type": "code",
   "execution_count": 18,
   "id": "43979a70",
   "metadata": {},
   "outputs": [
    {
     "name": "stdout",
     "output_type": "stream",
     "text": [
      "You are eligible to vote.\n"
     ]
    }
   ],
   "source": [
    "is_eligible_to_vote(20)"
   ]
  },
  {
   "cell_type": "code",
   "execution_count": 21,
   "id": "c3f1a1b8",
   "metadata": {},
   "outputs": [
    {
     "name": "stdout",
     "output_type": "stream",
     "text": [
      "You are not eligible to vote.\n"
     ]
    }
   ],
   "source": [
    "age = int(input(\"Please enter your age: \"))\n",
    "if age >= 18:\n",
    "    print(\"You are eligible to vote.\")\n",
    "else:\n",
    "    print(\"You are not eligible to vote.\")"
   ]
  },
  {
   "cell_type": "code",
   "execution_count": null,
   "id": "9acde349",
   "metadata": {},
   "outputs": [],
   "source": [
    "# create a function to check a student # is passing or failing based on their score "
   ]
  },
  {
   "cell_type": "code",
   "execution_count": 22,
   "id": "2f1c3a33",
   "metadata": {},
   "outputs": [],
   "source": [
    "# create a function to check wheather a persons BMI is normal, overweight or obese\n",
    "\n",
    "def check_bmi(weight, height):\n",
    "    bmi = weight / (height ** 2) # formula to calculate BMI\n",
    "\n",
    "    if bmi < 18.5:\n",
    "        return \"Underweight\"\n",
    "    elif 18.5 <= bmi < 24.9:\n",
    "        return \"Normal weight\"\n",
    "    elif 25 <= bmi < 29.9:\n",
    "        return \"Overweight\"\n",
    "    else:\n",
    "        return \"Obese\""
   ]
  },
  {
   "cell_type": "code",
   "execution_count": null,
   "id": "07c378d8",
   "metadata": {},
   "outputs": [
    {
     "data": {
      "text/plain": [
       "'Normal weight'"
      ]
     },
     "execution_count": 23,
     "metadata": {},
     "output_type": "execute_result"
    }
   ],
   "source": [
    "check_bmi(70, 1.75)  # Example usage 22.86"
   ]
  },
  {
   "cell_type": "code",
   "execution_count": null,
   "id": "43c0d9ba",
   "metadata": {},
   "outputs": [
    {
     "data": {
      "text/plain": [
       "'Obese'"
      ]
     },
     "execution_count": 24,
     "metadata": {},
     "output_type": "execute_result"
    }
   ],
   "source": [
    "check_bmi(90,1.7) # Example usage 31.14"
   ]
  },
  {
   "cell_type": "code",
   "execution_count": 25,
   "id": "123c8b69",
   "metadata": {},
   "outputs": [
    {
     "name": "stdout",
     "output_type": "stream",
     "text": [
      "radar is a palindrome.\n",
      "hello is not a palindrome.\n"
     ]
    }
   ],
   "source": [
    "def is_palindrome(word):\n",
    "    if word == word[::-1]:\n",
    "        print(f\"{word} is a palindrome.\")\n",
    "    else:   \n",
    "        print(f\"{word} is not a palindrome.\")\n",
    "\n",
    "is_palindrome(\"radar\")\n",
    "is_palindrome(\"hello\")"
   ]
  },
  {
   "cell_type": "code",
   "execution_count": 27,
   "id": "5592db93",
   "metadata": {},
   "outputs": [
    {
     "name": "stdout",
     "output_type": "stream",
     "text": [
      "level is a palindrome.\n",
      "madam is a palindrome.\n"
     ]
    }
   ],
   "source": [
    "is_palindrome(\"level\")\n",
    "is_palindrome(\"madam\")"
   ]
  },
  {
   "cell_type": "markdown",
   "id": "a301a2aa",
   "metadata": {},
   "source": [
    "#### ✅ 6. Generators and yield\n",
    "Create iterators with less memory usage."
   ]
  },
  {
   "cell_type": "code",
   "execution_count": 1,
   "id": "aae5134c",
   "metadata": {},
   "outputs": [
    {
     "name": "stdout",
     "output_type": "stream",
     "text": [
      "1\n",
      "2\n"
     ]
    }
   ],
   "source": [
    "def gen():\n",
    "    yield 1\n",
    "    yield 2\n",
    "\n",
    "g = gen()\n",
    "print(next(g))  # 1\n",
    "print(next(g))  # 2\n"
   ]
  },
  {
   "cell_type": "markdown",
   "id": "ed559a4a",
   "metadata": {},
   "source": [
    "##### 7. Function Annotations (Type Hints)\n",
    "Help in understanding what type of input/output is expected."
   ]
  },
  {
   "cell_type": "code",
   "execution_count": 4,
   "id": "3df26132",
   "metadata": {},
   "outputs": [
    {
     "data": {
      "text/plain": [
       "9"
      ]
     },
     "execution_count": 4,
     "metadata": {},
     "output_type": "execute_result"
    }
   ],
   "source": [
    "def add(a: int, b: int) -> int:\n",
    "    return a + b\n",
    "add(4, 5)  # This will raise a TypeError since \"3\" is not an int"
   ]
  },
  {
   "cell_type": "markdown",
   "id": "65356f9a",
   "metadata": {},
   "source": [
    "✅ What is a Docstring?\n",
    "A docstring is a special string used to document a function, class, or module. It is written as the first statement inside a function, enclosed in triple quotes (\"\"\" \"\"\" or ''' ''').\n",
    "\n"
   ]
  },
  {
   "cell_type": "code",
   "execution_count": 10,
   "id": "c53aa87b",
   "metadata": {},
   "outputs": [
    {
     "name": "stdout",
     "output_type": "stream",
     "text": [
      "Hello, John!\n",
      "Returns a greeting message with the given name.\n"
     ]
    }
   ],
   "source": [
    "def greet(name):\n",
    "    \"\"\"Returns a greeting message with the given name.\"\"\"\n",
    "    return f\"Hello, {name}!\"\n",
    "\n",
    "print(greet(\"John\"))\n",
    "print(greet.__doc__)  \n"
   ]
  },
  {
   "cell_type": "markdown",
   "id": "1fec156e",
   "metadata": {},
   "source": [
    "## Lambda "
   ]
  },
  {
   "cell_type": "code",
   "execution_count": 11,
   "id": "b235a3c8",
   "metadata": {},
   "outputs": [
    {
     "name": "stdout",
     "output_type": "stream",
     "text": [
      "25\n"
     ]
    }
   ],
   "source": [
    "square = lambda x: x ** 2\n",
    "print(square(5))  \n",
    "\n"
   ]
  },
  {
   "cell_type": "code",
   "execution_count": 15,
   "id": "6aefdc0d",
   "metadata": {},
   "outputs": [
    {
     "name": "stdout",
     "output_type": "stream",
     "text": [
      "10\n"
     ]
    }
   ],
   "source": [
    "# Lambda with Multiple Arguments\n",
    "add = lambda x, y: x + y\n",
    "print(add(3, 7)) \n",
    "\n"
   ]
  },
  {
   "cell_type": "code",
   "execution_count": 14,
   "id": "e1841770",
   "metadata": {},
   "outputs": [
    {
     "name": "stdout",
     "output_type": "stream",
     "text": [
      "[1, 4, 9, 16]\n"
     ]
    }
   ],
   "source": [
    "#  Lambda inside map()\n",
    "nums = [1, 2, 3, 4]\n",
    "squares = list(map(lambda x: x**2, nums))\n",
    "print(squares)  \n"
   ]
  },
  {
   "cell_type": "code",
   "execution_count": 16,
   "id": "aa0fed59",
   "metadata": {},
   "outputs": [
    {
     "name": "stdout",
     "output_type": "stream",
     "text": [
      "[2, 4, 6]\n"
     ]
    }
   ],
   "source": [
    "# Lambda inside filter()\n",
    "nums = [1, 2, 3, 4, 5, 6]\n",
    "even_nums = list(filter(lambda x: x % 2 == 0, nums))\n",
    "print(even_nums)  # Output: [2, 4, 6]\n"
   ]
  },
  {
   "cell_type": "code",
   "execution_count": 18,
   "id": "7d26fe06",
   "metadata": {},
   "outputs": [
    {
     "name": "stdout",
     "output_type": "stream",
     "text": [
      "['Alice', 'Bob', 'John', 'Zara']\n"
     ]
    }
   ],
   "source": [
    "# Lambda inside sorted()\n",
    "\n",
    "names = [\"John\", \"Alice\", \"Zara\", \"Bob\"]\n",
    "sorted_names = sorted(names, key=lambda x: x.lower())\n",
    "print(sorted_names)  # Output: ['Alice', 'Bob', 'John', 'Zara']\n"
   ]
  },
  {
   "cell_type": "code",
   "execution_count": 21,
   "id": "dad1df63",
   "metadata": {},
   "outputs": [
    {
     "name": "stdout",
     "output_type": "stream",
     "text": [
      "24\n"
     ]
    }
   ],
   "source": [
    "#Lambda with reduce()\n",
    "from functools import reduce\n",
    "nums = [1, 2, 3, 4]\n",
    "product = reduce(lambda x, y: x * y, nums)\n",
    "print(product)  # Output: 24\n"
   ]
  },
  {
   "cell_type": "code",
   "execution_count": 22,
   "id": "097de1ea",
   "metadata": {},
   "outputs": [],
   "source": [
    "def A_greet_customer():\n",
    "    print(\"Hello, Customer! Welcome to our Pizza store.\")"
   ]
  },
  {
   "cell_type": "code",
   "execution_count": 23,
   "id": "b6ae298e",
   "metadata": {},
   "outputs": [
    {
     "name": "stdout",
     "output_type": "stream",
     "text": [
      "Hello, Customer! Welcome to our Pizza store.\n"
     ]
    }
   ],
   "source": [
    "A_greet_customer()  # Call the function to greet the customer"
   ]
  },
  {
   "cell_type": "code",
   "execution_count": 28,
   "id": "6483999d",
   "metadata": {},
   "outputs": [],
   "source": [
    "def B_take_order(Pizza_type):\n",
    "    print(\"What would you like to order?\")"
   ]
  },
  {
   "cell_type": "code",
   "execution_count": 29,
   "id": "ad5625b0",
   "metadata": {},
   "outputs": [
    {
     "name": "stdout",
     "output_type": "stream",
     "text": [
      "What would you like to order?\n"
     ]
    }
   ],
   "source": [
    "B_take_order(\"Margherita Pizza\") "
   ]
  },
  {
   "cell_type": "code",
   "execution_count": 30,
   "id": "a11efdf4",
   "metadata": {},
   "outputs": [],
   "source": [
    "def calculate_total_price(price, quantity):\n",
    "    total_price = price * quantity\n",
    "    print(f\"The total price is: {total_price}\")"
   ]
  },
  {
   "cell_type": "code",
   "execution_count": 32,
   "id": "dd62d7a6",
   "metadata": {},
   "outputs": [
    {
     "name": "stdout",
     "output_type": "stream",
     "text": [
      "The total price is: 200\n"
     ]
    }
   ],
   "source": [
    "calculate_total_price(100,2)"
   ]
  },
  {
   "cell_type": "code",
   "execution_count": 56,
   "id": "6750564e",
   "metadata": {},
   "outputs": [],
   "source": [
    "def check_obesity(weight, height):\n",
    "    if height <= 0:\n",
    "        print(\"Height must be greater than zero.\")\n",
    "        return\n",
    "    bmi = weight / (height ** 2)\n",
    "    if bmi < 18.5:\n",
    "        print(\"Underweight\")\n",
    "    elif 18.5 <= bmi < 24.9:\n",
    "        print(\"Normal weight\")\n",
    "    elif 25 <= bmi < 29.9:\n",
    "        print(\"Overweight\")\n",
    "    else:\n",
    "        print(\"Obese\")"
   ]
  },
  {
   "cell_type": "code",
   "execution_count": 58,
   "id": "79aeb599",
   "metadata": {},
   "outputs": [
    {
     "name": "stdout",
     "output_type": "stream",
     "text": [
      "Normal weight\n"
     ]
    }
   ],
   "source": [
    "check_obesity(75,1.75)"
   ]
  },
  {
   "cell_type": "code",
   "execution_count": 62,
   "id": "7ab1aeda",
   "metadata": {},
   "outputs": [
    {
     "name": "stdout",
     "output_type": "stream",
     "text": [
      "['Odd', 'Even', 'Odd', 'Even', 'Odd', 'Even']\n"
     ]
    }
   ],
   "source": [
    "numbers = [1,2,3,4,5,0]\n",
    "add= list(map(lambda x:\"Even\" if x%2== 0 else \"Odd\", numbers))\n",
    "print(add)  # Output: ['Even', 'Even', 'Even', 'Even', 'Even']"
   ]
  },
  {
   "cell_type": "code",
   "execution_count": null,
   "id": "c2f5a87e",
   "metadata": {},
   "outputs": [],
   "source": []
  }
 ],
 "metadata": {
  "kernelspec": {
   "display_name": ".venv",
   "language": "python",
   "name": "python3"
  },
  "language_info": {
   "codemirror_mode": {
    "name": "ipython",
    "version": 3
   },
   "file_extension": ".py",
   "mimetype": "text/x-python",
   "name": "python",
   "nbconvert_exporter": "python",
   "pygments_lexer": "ipython3",
   "version": "3.11.9"
  }
 },
 "nbformat": 4,
 "nbformat_minor": 5
}
