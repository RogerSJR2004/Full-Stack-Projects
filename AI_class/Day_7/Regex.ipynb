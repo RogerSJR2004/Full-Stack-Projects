{
 "cells": [
  {
   "cell_type": "code",
   "execution_count": null,
   "id": "fd755fe7",
   "metadata": {},
   "outputs": [],
   "source": []
  },
  {
   "cell_type": "code",
   "execution_count": 1,
   "id": "ccba1f65",
   "metadata": {},
   "outputs": [],
   "source": [
    "# Import the built-in re module:\n",
    "import re\n"
   ]
  },
  {
   "cell_type": "code",
   "execution_count": 2,
   "id": "48653697",
   "metadata": {},
   "outputs": [
    {
     "name": "stdout",
     "output_type": "stream",
     "text": [
      "<re.Match object; span=(0, 5), match='Hello'>\n"
     ]
    }
   ],
   "source": [
    "#Checks for a match only at the beginning of the string.\n",
    "import re\n",
    "\n",
    "text = \"Hello World\"\n",
    "result = re.match(\"Hello\", text)\n",
    "\n",
    "print(result)  # Match found at beginning\n"
   ]
  },
  {
   "cell_type": "code",
   "execution_count": 3,
   "id": "26e43fbb",
   "metadata": {},
   "outputs": [
    {
     "name": "stdout",
     "output_type": "stream",
     "text": [
      "<re.Match object; span=(4, 9), match='Hello'>\n"
     ]
    }
   ],
   "source": [
    "# Searches anywhere in the string.\n",
    "text = \"Say Hello to the world\"\n",
    "result = re.search(\"Hello\", text)\n",
    "\n",
    "print(result)  # Match found inside\n"
   ]
  },
  {
   "cell_type": "code",
   "execution_count": 4,
   "id": "102fc134",
   "metadata": {},
   "outputs": [
    {
     "name": "stdout",
     "output_type": "stream",
     "text": [
      "['at', 'at', 'at']\n"
     ]
    }
   ],
   "source": [
    "#Returns a list of all matches.\n",
    "text = \"Cat and bat and rat\"\n",
    "result = re.findall(\"at\", text)\n",
    "\n",
    "print(result)  # ['at', 'at', 'at']\n"
   ]
  },
  {
   "cell_type": "code",
   "execution_count": 6,
   "id": "0fd8a91c",
   "metadata": {},
   "outputs": [
    {
     "name": "stdout",
     "output_type": "stream",
     "text": [
      "['apple', 'banana', 'grape']\n"
     ]
    }
   ],
   "source": [
    "#Splits string by the regex pattern.\n",
    "\n",
    "text = \"apple,banana,grape\"\n",
    "result = re.split(\",\", text)\n",
    "\n",
    "print(result)  # ['apple', 'banana', 'grape']\n"
   ]
  },
  {
   "cell_type": "code",
   "execution_count": 8,
   "id": "b9b6d3ea",
   "metadata": {},
   "outputs": [
    {
     "name": "stdout",
     "output_type": "stream",
     "text": [
      "Today is Monday\n"
     ]
    }
   ],
   "source": [
    "#Replaces matches with another string.\n",
    "text = \"Today is Sunday\"\n",
    "result = re.sub(\"Sunday\", \"Monday\", text)\n",
    "\n",
    "print(result)  # \"Today is Monday\"\n"
   ]
  },
  {
   "cell_type": "markdown",
   "id": "f2dc503e",
   "metadata": {},
   "source": [
    "| Symbol | Meaning                   | Example   | Matches                  |\n",
    "| ------ | ------------------------- | --------- | ------------------------ |\n",
    "| `.`    | Any character except `\\n` | `a.b`     | `acb`, `a9b`, `a*b`      |\n",
    "| `^`    | Start of string           | `^Hi`     | \"Hi there\" (only start)  |\n",
    "| `$`    | End of string             | `bye$`    | \"say bye\"                |\n",
    "| `*`    | 0 or more times           | `ab*`     | `a`, `ab`, `abb`, `abbb` |\n",
    "| `+`    | 1 or more times           | `ab+`     | `ab`, `abb`, not `a`     |\n",
    "| `?`    | 0 or 1 time               | `ab?`     | `a`, `ab`                |\n",
    "| `{n}`  | Exactly n times           | `a{3}`    | `aaa`                    |\n",
    "| `[]`   | Character class           | `[aeiou]` | any vowel                |\n",
    "| `\\d`   | Digit (0-9)               | `\\d+`     | `123`                    |\n",
    "| `\\w`   | Word (a-z, A-Z, 0-9, \\_)  | `\\w+`     | `word123`                |\n",
    "| `\\s`   | Whitespace                | `\\s+`     | space, tab, newline      |\n"
   ]
  },
  {
   "cell_type": "code",
   "execution_count": 10,
   "id": "e21c8aa6",
   "metadata": {},
   "outputs": [
    {
     "name": "stdout",
     "output_type": "stream",
     "text": [
      "Valid Email\n"
     ]
    }
   ],
   "source": [
    "# 1. Validate Email\n",
    "email = \"test@example.com\"\n",
    "pattern = r\"\\b[A-Za-z0-9._%+-]+@[A-Za-z0-9.-]+\\.[A-Z|a-z]{2,}\\b\"\n",
    "\n",
    "if re.match(pattern, email):\n",
    "    print(\"Valid Email\")\n",
    "else:\n",
    "    print(\"Invalid Email\")\n"
   ]
  },
  {
   "cell_type": "code",
   "execution_count": 12,
   "id": "5b8eec2c",
   "metadata": {},
   "outputs": [
    {
     "name": "stdout",
     "output_type": "stream",
     "text": [
      "['3', '4']\n"
     ]
    }
   ],
   "source": [
    "#2. Extract All Numbers\n",
    "text = \"There are 3 cats and 4 dogs.\"\n",
    "numbers = re.findall(r\"\\d+\", text)\n",
    "print(numbers)  # ['3', '4']\n"
   ]
  },
  {
   "cell_type": "code",
   "execution_count": 13,
   "id": "182c4419",
   "metadata": {},
   "outputs": [
    {
     "name": "stdout",
     "output_type": "stream",
     "text": [
      "Python is awesome\n"
     ]
    }
   ],
   "source": [
    "#Replace Multiple Spaces with One\n",
    "text = \"Python     is   awesome\"\n",
    "result = re.sub(r\"\\s+\", \" \", text)\n",
    "print(result)  # \"Python is awesome\"\n"
   ]
  },
  {
   "cell_type": "code",
   "execution_count": 14,
   "id": "08f82b9d",
   "metadata": {},
   "outputs": [
    {
     "name": "stdout",
     "output_type": "stream",
     "text": [
      "['9876543210', '123-456-7890']\n"
     ]
    }
   ],
   "source": [
    "#Extract Phone Numbers\n",
    "text = \"Call me at 9876543210 or 123-456-7890\"\n",
    "pattern = r\"\\b\\d{10}\\b|\\b\\d{3}-\\d{3}-\\d{4}\\b\"\n",
    "result = re.findall(pattern, text)\n",
    "print(result)  # ['9876543210', '123-456-7890']\n"
   ]
  },
  {
   "cell_type": "code",
   "execution_count": 15,
   "id": "b6a7ab22",
   "metadata": {},
   "outputs": [
    {
     "name": "stdout",
     "output_type": "stream",
     "text": [
      "['#sunset', '#beach']\n",
      "['@gowtham123']\n"
     ]
    }
   ],
   "source": [
    "# Extract Hashtags and Mentions from Social Media\n",
    "text = \"Loving the #sunset and #beach! Follow me @gowtham123\"\n",
    "hashtags = re.findall(r\"#\\w+\", text)\n",
    "mentions = re.findall(r\"@\\w+\", text)\n",
    "print(hashtags)  # ['#sunset', '#beach']\n",
    "print(mentions)  # ['@gowtham123']\n"
   ]
  },
  {
   "cell_type": "code",
   "execution_count": 16,
   "id": "f324e5c0",
   "metadata": {},
   "outputs": [
    {
     "name": "stdout",
     "output_type": "stream",
     "text": [
      "['28-06-2025', '30-06-2025']\n"
     ]
    }
   ],
   "source": [
    "# Extract Dates (DD-MM-YYYY)\n",
    "text = \"The event is on 28-06-2025 and ends on 30-06-2025.\"\n",
    "dates = re.findall(r\"\\b\\d{2}-\\d{2}-\\d{4}\\b\", text)\n",
    "print(dates)  # ['28-06-2025', '30-06-2025']\n"
   ]
  },
  {
   "cell_type": "code",
   "execution_count": 17,
   "id": "383390b0",
   "metadata": {},
   "outputs": [
    {
     "name": "stdout",
     "output_type": "stream",
     "text": [
      "['My', 'Gowtham', 'I', 'Mumbai']\n"
     ]
    }
   ],
   "source": [
    "#  Extract All Words Starting with Capital Letters\n",
    "text = \"My name is Gowtham and I live in Mumbai.\"\n",
    "capital_words = re.findall(r\"\\b[A-Z][a-z]*\\b\", text)\n",
    "print(capital_words)  # ['My', 'Gowtham', 'I', 'Mumbai']\n"
   ]
  },
  {
   "cell_type": "code",
   "execution_count": 18,
   "id": "1fb7c251",
   "metadata": {},
   "outputs": [
    {
     "name": "stdout",
     "output_type": "stream",
     "text": [
      "Strong Password\n"
     ]
    }
   ],
   "source": [
    "#  Password Validation (Minimum 8 chars, 1 number, 1 uppercase, 1 special char)\n",
    "password = \"My@Pass123\"\n",
    "pattern = r\"^(?=.*[A-Z])(?=.*\\d)(?=.*[@$!%*?&])[A-Za-z\\d@$!%*?&]{8,}$\"\n",
    "\n",
    "if re.match(pattern, password):\n",
    "    print(\"Strong Password\")\n",
    "else:\n",
    "    print(\"Weak Password\")\n"
   ]
  },
  {
   "cell_type": "code",
   "execution_count": 20,
   "id": "f00fce18",
   "metadata": {},
   "outputs": [
    {
     "name": "stdout",
     "output_type": "stream",
     "text": [
      "John\n",
      "28\n"
     ]
    }
   ],
   "source": [
    "#Groups allow you to capture specific parts of a match.\n",
    "text = \"Name: John, Age: 28\"\n",
    "match = re.search(r\"Name:\\s(\\w+), Age:\\s(\\d+)\", text)\n",
    "print(match.group(1))  # John\n",
    "print(match.group(2))  # 28\n"
   ]
  },
  {
   "cell_type": "code",
   "execution_count": 21,
   "id": "92ad0e6c",
   "metadata": {},
   "outputs": [
    {
     "name": "stdout",
     "output_type": "stream",
     "text": [
      "['<p>Hello</p>', '<p>World</p>']\n"
     ]
    }
   ],
   "source": [
    "# Non-Greedy Matching (?)\n",
    "text = \"<p>Hello</p><p>World</p>\"\n",
    "result = re.findall(r\"<p>.*?</p>\", text)\n",
    "print(result)  # ['<p>Hello</p>', '<p>World</p>']\n"
   ]
  },
  {
   "cell_type": "code",
   "execution_count": null,
   "id": "84dfe1b5",
   "metadata": {},
   "outputs": [],
   "source": []
  },
  {
   "cell_type": "markdown",
   "id": "c62e3c38",
   "metadata": {},
   "source": [
    "### Assignment 1: Extract all email addresses"
   ]
  },
  {
   "cell_type": "markdown",
   "id": "70350b3f",
   "metadata": {},
   "source": [
    "emails = \"Contact us at support@example.com, admin@site.org\"\n"
   ]
  },
  {
   "cell_type": "markdown",
   "id": "5b82f3c5",
   "metadata": {},
   "source": []
  },
  {
   "cell_type": "markdown",
   "id": "d70da0ba",
   "metadata": {},
   "source": [
    "###  Assignment 2: Replace all digits with *"
   ]
  },
  {
   "cell_type": "markdown",
   "id": "c6cdaa9f",
   "metadata": {},
   "source": [
    "text = \"My OTP is 9876\"\n"
   ]
  },
  {
   "cell_type": "code",
   "execution_count": null,
   "id": "8852b8d7",
   "metadata": {},
   "outputs": [],
   "source": []
  },
  {
   "cell_type": "markdown",
   "id": "cf4435f4",
   "metadata": {},
   "source": [
    "### Assignment 3: Check if a string is a valid PAN number (e.g., ABCDE1234F)"
   ]
  },
  {
   "cell_type": "markdown",
   "id": "beaa4e2c",
   "metadata": {},
   "source": [
    "PAN = 5 letters + 4 digits + 1 letter \n",
    "\\n\n",
    "text = \"ABCDE1234F\"\n"
   ]
  },
  {
   "cell_type": "code",
   "execution_count": null,
   "id": "7ccc4deb",
   "metadata": {},
   "outputs": [],
   "source": []
  },
  {
   "cell_type": "markdown",
   "id": "81bc5678",
   "metadata": {},
   "source": [
    "### Assignment 4: Split a paragraph into sentences"
   ]
  },
  {
   "cell_type": "markdown",
   "id": "172cde5b",
   "metadata": {},
   "source": [
    "text = \"Hello there! How are you doing? Let's meet tomorrow.\"\n"
   ]
  },
  {
   "cell_type": "markdown",
   "id": "8f6cdcae",
   "metadata": {},
   "source": []
  }
 ],
 "metadata": {
  "kernelspec": {
   "display_name": ".venv",
   "language": "python",
   "name": "python3"
  },
  "language_info": {
   "codemirror_mode": {
    "name": "ipython",
    "version": 3
   },
   "file_extension": ".py",
   "mimetype": "text/x-python",
   "name": "python",
   "nbconvert_exporter": "python",
   "pygments_lexer": "ipython3",
   "version": "3.11.9"
  }
 },
 "nbformat": 4,
 "nbformat_minor": 5
}
