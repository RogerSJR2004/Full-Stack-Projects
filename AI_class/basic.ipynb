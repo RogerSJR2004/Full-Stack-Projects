{
 "cells": [
  {
   "cell_type": "markdown",
   "id": "84d3cfff",
   "metadata": {},
   "source": [
    "## Data conversion"
   ]
  },
  {
   "cell_type": "code",
   "execution_count": null,
   "id": "d66f9dc7",
   "metadata": {},
   "outputs": [
    {
     "name": "stdout",
     "output_type": "stream",
     "text": [
      "5 <class 'str'>\n",
      "25.0 <class 'float'>\n",
      "7 <class 'int'>\n"
     ]
    }
   ],
   "source": [
    "a = 5\n",
    "b = '25'\n",
    "c = 7.5\n",
    "\n",
    "# Convert a to str\n",
    "a_str = str(a)\n",
    "print(a_str, type(a_str))  \n",
    "\n",
    "# Convert b to float\n",
    "b_float = float(b)\n",
    "print(b_float, type(b_float)) \n",
    "\n",
    "# Convert c to int\n",
    "c_int = int(c)\n",
    "print(c_int, type(c_int))"
   ]
  },
  {
   "cell_type": "code",
   "execution_count": 6,
   "id": "c9885814",
   "metadata": {},
   "outputs": [
    {
     "name": "stdout",
     "output_type": "stream",
     "text": [
      "-5 5\n"
     ]
    }
   ],
   "source": [
    "a= 5\n",
    "b =10\n",
    "c=20\n",
    "z=a-b\n",
    "x=z+b\n",
    "print(z, x)"
   ]
  },
  {
   "cell_type": "code",
   "execution_count": 8,
   "id": "e4769d32",
   "metadata": {},
   "outputs": [
    {
     "name": "stdout",
     "output_type": "stream",
     "text": [
      "List: [1, 2, 3, 4]\n",
      "Dict: {'name': 'Alice', 'age': 25}\n",
      "Set: {1, 2, 3}\n",
      "Tuple: (10, 20, 30)\n"
     ]
    }
   ],
   "source": [
    "# List example\n",
    "my_list = [1, 2, 3, 4]\n",
    "print(\"List:\", my_list)\n",
    "\n",
    "# Dictionary (dict) example\n",
    "my_dict = {\"name\": \"Alice\", \"age\": 25}\n",
    "print(\"Dict:\", my_dict)\n",
    "\n",
    "# Set example\n",
    "my_set = {1, 2, 3, 2}\n",
    "print(\"Set:\", my_set)  # Duplicates are removed\n",
    "\n",
    "# Tuple example\n",
    "my_tuple = (10, 20, 30)\n",
    "print(\"Tuple:\", my_tuple)"
   ]
  }
 ],
 "metadata": {
  "kernelspec": {
   "display_name": "base",
   "language": "python",
   "name": "python3"
  },
  "language_info": {
   "codemirror_mode": {
    "name": "ipython",
    "version": 3
   },
   "file_extension": ".py",
   "mimetype": "text/x-python",
   "name": "python",
   "nbconvert_exporter": "python",
   "pygments_lexer": "ipython3",
   "version": "3.11.7"
  }
 },
 "nbformat": 4,
 "nbformat_minor": 5
}
