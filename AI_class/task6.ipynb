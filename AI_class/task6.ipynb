{
 "cells": [
  {
   "cell_type": "markdown",
   "id": "46ca4fc9",
   "metadata": {},
   "source": [
    "# File Handling"
   ]
  },
  {
   "cell_type": "code",
   "execution_count": 1,
   "id": "00a72e84",
   "metadata": {},
   "outputs": [],
   "source": [
    "import os\n",
    "with open('sample.txt', 'w') as f:\n",
    "    f.write('Hello, World!')"
   ]
  },
  {
   "cell_type": "code",
   "execution_count": 23,
   "id": "860899bb",
   "metadata": {},
   "outputs": [
    {
     "name": "stdout",
     "output_type": "stream",
     "text": [
      "Hello, Universe!\n",
      "Welcome to Python file handling!\n",
      "Happy Holidays!\n"
     ]
    }
   ],
   "source": [
    "def read_file(filename):\n",
    "    with open(filename, 'r') as f:\n",
    "        print(f.read())\n",
    "\n",
    "read_file('sample.txt')"
   ]
  },
  {
   "cell_type": "code",
   "execution_count": 3,
   "metadata": {},
   "outputs": [],
   "source": [
    "with open('sample.txt', 'a') as f: # Append to a File\n",
    "    f.write('\\nWelcome to Python file handling!')"
   ]
  },
  {
   "cell_type": "code",
   "execution_count": 6,
   "id": "20a1c4a1",
   "metadata": {},
   "outputs": [
    {
     "name": "stdout",
     "output_type": "stream",
     "text": [
      "Number of lines in sample.txt: 2\n"
     ]
    }
   ],
   "source": [
    "def count_lines(filename):\n",
    "    with open(filename, 'r') as f:\n",
    "        return len(f.readlines())\n",
    "print(f\"Number of lines in sample.txt: {count_lines('sample.txt')}\")"
   ]
  },
  {
   "cell_type": "code",
   "execution_count": 9,
   "metadata": {},
   "outputs": [],
   "source": [
    "with open('sample.txt', 'r') as src, open('copy_sample.txt', 'w') as dst:\n",
    "    dst.write(src.read()) # Copy Content from One File to Another\n"
   ]
  },
  {
   "cell_type": "code",
   "execution_count": 22,
   "id": "e9ff1405",
   "metadata": {},
   "outputs": [
    {
     "data": {
      "text/plain": [
       "9"
      ]
     },
     "execution_count": 22,
     "metadata": {},
     "output_type": "execute_result"
    }
   ],
   "source": [
    "def word_count(filename):\n",
    "    with open(filename, 'r') as f:\n",
    "        return len(f.read().split())\n",
    "    \n",
    "word_count('sample.txt')"
   ]
  },
  {
   "cell_type": "code",
   "execution_count": 13,
   "metadata": {},
   "outputs": [
    {
     "name": "stdout",
     "output_type": "stream",
     "text": [
      "New file created\n"
     ]
    }
   ],
   "source": [
    "#File Existence Check\n",
    "if os.path.exists('data.txt'):\n",
    "    with open('data.txt', 'r') as f:\n",
    "        print(f.read())\n",
    "else:\n",
    "    with open('data.txt', 'w') as f:\n",
    "        f.write('New file created')"
   ]
  },
  {
   "cell_type": "code",
   "execution_count": 21,
   "id": "fba6eec5",
   "metadata": {},
   "outputs": [
    {
     "name": "stdout",
     "output_type": "stream",
     "text": [
      "Happy Holidays!\n"
     ]
    }
   ],
   "source": [
    "def read_third_line(filename):\n",
    "    with open(filename, 'r') as f:\n",
    "        lines = f.readlines()\n",
    "        if len(lines) >= 3:\n",
    "            print(lines[2].rstrip())\n",
    "        else:\n",
    "            print(\"File has fewer than 3 lines.\")\n",
    "\n",
    "read_third_line('sample.txt')"
   ]
  },
  {
   "cell_type": "code",
   "execution_count": 19,
   "id": "a0d084c4",
   "metadata": {},
   "outputs": [],
   "source": [
    "# Replace Text in a File\n",
    "def replace_text(filename, old, new):\n",
    "    with open(filename, 'r') as f:\n",
    "        content = f.read()\n",
    "    content = content.replace(old, new)\n",
    "    with open(filename, 'w') as f:\n",
    "        f.write(content)\n",
    "\n",
    "replace_text('sample.txt', 'World', 'Universe')"
   ]
  },
  {
   "cell_type": "code",
   "execution_count": 18,
   "id": "78971fbc",
   "metadata": {},
   "outputs": [],
   "source": [
    "#  Reverse File Content\n",
    "def reverse_file_content(src_file, dst_file):\n",
    "    with open(src_file, 'r') as f:\n",
    "        lines = f.readlines()\n",
    "    with open(dst_file, 'w') as f:\n",
    "        for line in reversed(lines):\n",
    "            f.write(line)\n",
    "\n",
    "reverse_file_content('sample.txt', 'reversed.txt')"
   ]
  },
  {
   "cell_type": "code",
   "execution_count": null,
   "id": "c189d9e9",
   "metadata": {},
   "outputs": [],
   "source": []
  }
 ],
 "metadata": {
  "kernelspec": {
   "display_name": "Python 3",
   "language": "python",
   "name": "python3"
  },
  "language_info": {
   "codemirror_mode": {
    "name": "ipython",
    "version": 3
   },
   "file_extension": ".py",
   "mimetype": "text/x-python",
   "name": "python",
   "nbconvert_exporter": "python",
   "pygments_lexer": "ipython3",
   "version": "3.10.0"
  }
 },
 "nbformat": 4,
 "nbformat_minor": 5
}
