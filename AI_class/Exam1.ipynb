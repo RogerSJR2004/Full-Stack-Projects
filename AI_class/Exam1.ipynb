{
 "cells": [
  {
   "cell_type": "markdown",
   "id": "171f680d",
   "metadata": {},
   "source": [
    "# Data Types"
   ]
  },
  {
   "cell_type": "code",
   "execution_count": 7,
   "id": "ff94895a",
   "metadata": {},
   "outputs": [
    {
     "name": "stdout",
     "output_type": "stream",
     "text": [
      "(<class 'int'>, <class 'float'>, <class 'str'>, <class 'bool'>)\n"
     ]
    }
   ],
   "source": [
    "values =[10,5.5,'hello',True]\n",
    "type1 = type(values[0]) \n",
    "type2 = type(values[1])\n",
    "type3 = type(values[2])\n",
    "type4 = type(values[3])\n",
    "type = (type1, type2, type3, type4)\n",
    "print(type)"
   ]
  },
  {
   "cell_type": "code",
   "execution_count": 56,
   "id": "cb47ce7e",
   "metadata": {},
   "outputs": [
    {
     "name": "stdout",
     "output_type": "stream",
     "text": [
      "Yes, items is not an int\n"
     ]
    }
   ],
   "source": [
    "items = [3, '4', 7.2, 0, -1]\n",
    "\n",
    "if  items is not int:\n",
    "    print(\"Yes, items is not an int\")\n",
    "else:\n",
    "    print(\"NO, items is an int\")"
   ]
  },
  {
   "cell_type": "markdown",
   "id": "66f174db",
   "metadata": {},
   "source": [
    "# List"
   ]
  },
  {
   "cell_type": "code",
   "execution_count": 49,
   "id": "6e156468",
   "metadata": {},
   "outputs": [
    {
     "name": "stdout",
     "output_type": "stream",
     "text": [
      "[1, 2, 3, 4, 5, 6]\n"
     ]
    }
   ],
   "source": [
    "numbers = [1,2,3,4,5]\n",
    "numbers.append(6)\n",
    "print(numbers)"
   ]
  },
  {
   "cell_type": "code",
   "execution_count": 8,
   "id": "d66bc959",
   "metadata": {},
   "outputs": [
    {
     "name": "stdout",
     "output_type": "stream",
     "text": [
      "date\n"
     ]
    }
   ],
   "source": [
    "names = ['apple', 'banana', 'cherry','date']\n",
    "print(names[3])"
   ]
  },
  {
   "cell_type": "markdown",
   "id": "30d5f301",
   "metadata": {},
   "source": [
    "# Dictionary"
   ]
  },
  {
   "cell_type": "code",
   "execution_count": 9,
   "id": "4c8fa84e",
   "metadata": {},
   "outputs": [
    {
     "name": "stdout",
     "output_type": "stream",
     "text": [
      "25\n"
     ]
    }
   ],
   "source": [
    "person = {'name': 'john', 'age':25}\n",
    "print(person['age'])"
   ]
  },
  {
   "cell_type": "code",
   "execution_count": 10,
   "id": "548e8f14",
   "metadata": {},
   "outputs": [
    {
     "name": "stdout",
     "output_type": "stream",
     "text": [
      "{'name': 'Anu', 'class': 5, 'city': 'Delhi'}\n"
     ]
    }
   ],
   "source": [
    "student ={'name':'Anu','class':5}\n",
    "update = {'city':'Delhi'}\n",
    "student.update(update)\n",
    "print(student)"
   ]
  },
  {
   "cell_type": "markdown",
   "id": "43f7ff09",
   "metadata": {},
   "source": [
    "# Tuple"
   ]
  },
  {
   "cell_type": "code",
   "execution_count": 11,
   "id": "fedd2ff7",
   "metadata": {},
   "outputs": [
    {
     "name": "stdout",
     "output_type": "stream",
     "text": [
      "200\n"
     ]
    }
   ],
   "source": [
    "t = (100, 200, 300)\n",
    "print(t[1])  "
   ]
  },
  {
   "cell_type": "code",
   "execution_count": 12,
   "id": "9788de00",
   "metadata": {},
   "outputs": [
    {
     "name": "stdout",
     "output_type": "stream",
     "text": [
      "(1, 2, 3)\n"
     ]
    }
   ],
   "source": [
    "tuple = (1,2,3)\n",
    "print(tuple)"
   ]
  },
  {
   "cell_type": "markdown",
   "id": "f6d425e3",
   "metadata": {},
   "source": [
    "# Set"
   ]
  },
  {
   "cell_type": "code",
   "execution_count": 14,
   "id": "c756ac5b",
   "metadata": {},
   "outputs": [
    {
     "name": "stdout",
     "output_type": "stream",
     "text": [
      "{1, 2, 3}\n"
     ]
    }
   ],
   "source": [
    "values = [1, 2, 2, 3, 3, 3]\n",
    "unique_values = set(values)\n",
    "print(unique_values)"
   ]
  },
  {
   "cell_type": "code",
   "execution_count": 15,
   "id": "74da76b0",
   "metadata": {},
   "outputs": [
    {
     "name": "stdout",
     "output_type": "stream",
     "text": [
      "{1, 2, 3, 7}\n"
     ]
    }
   ],
   "source": [
    "s = {1, 2, 3}\n",
    "s.add(7)\n",
    "print(s)"
   ]
  },
  {
   "cell_type": "markdown",
   "id": "784bea5d",
   "metadata": {},
   "source": [
    "# IF-Else"
   ]
  },
  {
   "cell_type": "code",
   "execution_count": 16,
   "id": "55519822",
   "metadata": {},
   "outputs": [
    {
     "name": "stdout",
     "output_type": "stream",
     "text": [
      "Number is even\n"
     ]
    }
   ],
   "source": [
    "number = 8\n",
    "if number % 2 ==0:\n",
    "    print(\"Number is even\")\n",
    "else:\n",
    "    print(\"Number is odd\")"
   ]
  },
  {
   "cell_type": "code",
   "execution_count": 17,
   "id": "55d88c1a",
   "metadata": {},
   "outputs": [
    {
     "name": "stdout",
     "output_type": "stream",
     "text": [
      "n is greater than 10\n"
     ]
    }
   ],
   "source": [
    "n = 15\n",
    "if n > 10:\n",
    "    print(\"n is greater than 10\")\n",
    "else:\n",
    "    print(\"n is not greater than 10\")"
   ]
  },
  {
   "cell_type": "markdown",
   "id": "51ff714d",
   "metadata": {},
   "source": [
    "# For Loop"
   ]
  },
  {
   "cell_type": "code",
   "execution_count": 18,
   "id": "96f4df02",
   "metadata": {},
   "outputs": [
    {
     "name": "stdout",
     "output_type": "stream",
     "text": [
      "1\n",
      "2\n",
      "3\n",
      "4\n",
      "5\n"
     ]
    }
   ],
   "source": [
    "for i in range(1,6):\n",
    "    print(i)"
   ]
  },
  {
   "cell_type": "code",
   "execution_count": 47,
   "id": "82f38960",
   "metadata": {},
   "outputs": [
    {
     "name": "stdout",
     "output_type": "stream",
     "text": [
      "['John', 'Jane', 'Jim']\n",
      "['John', 'Jane', 'Jim']\n",
      "['John', 'Jane', 'Jim']\n"
     ]
    }
   ],
   "source": [
    "names = ['John', 'Jane', 'Jim']\n",
    "for name in names:\n",
    "    print(names)"
   ]
  },
  {
   "cell_type": "markdown",
   "id": "1e00e787",
   "metadata": {},
   "source": [
    "# While Loop"
   ]
  },
  {
   "cell_type": "code",
   "execution_count": 45,
   "id": "206a9b40",
   "metadata": {},
   "outputs": [
    {
     "name": "stdout",
     "output_type": "stream",
     "text": [
      "1\n",
      "2\n",
      "3\n",
      "4\n",
      "5\n"
     ]
    }
   ],
   "source": [
    "nums = [1, 2, 3, 4, 5]\n",
    "i = 0\n",
    "while i < len(nums):\n",
    "    print(nums[i])\n",
    "    i += 1"
   ]
  },
  {
   "cell_type": "code",
   "execution_count": 44,
   "id": "ac60334a",
   "metadata": {},
   "outputs": [
    {
     "name": "stdout",
     "output_type": "stream",
     "text": [
      "10\n",
      "20\n",
      "30\n"
     ]
    }
   ],
   "source": [
    "nums = [10, 20, 30]\n",
    "i = 0\n",
    "while i < len(nums):\n",
    "    print(nums[i])\n",
    "    i += 1"
   ]
  },
  {
   "cell_type": "markdown",
   "id": "4f75a10b",
   "metadata": {},
   "source": [
    "# List comperhension"
   ]
  },
  {
   "cell_type": "code",
   "execution_count": null,
   "id": "bea6aa96",
   "metadata": {},
   "outputs": [
    {
     "name": "stdout",
     "output_type": "stream",
     "text": [
      "[0, 1, 4, 9, 16]\n"
     ]
    }
   ],
   "source": [
    "squares = [x**2 for x in range(5)]\n",
    "print(squares)"
   ]
  },
  {
   "cell_type": "markdown",
   "id": "84cb2f56",
   "metadata": {},
   "source": [
    "# Function"
   ]
  },
  {
   "cell_type": "code",
   "execution_count": 33,
   "id": "27e9f264",
   "metadata": {},
   "outputs": [
    {
     "name": "stdout",
     "output_type": "stream",
     "text": [
      "Hello, World!\n"
     ]
    }
   ],
   "source": [
    "def my_function():\n",
    "    print(\"Hello, World!\")\n",
    "my_function()"
   ]
  },
  {
   "cell_type": "code",
   "execution_count": 36,
   "id": "e2951a94",
   "metadata": {},
   "outputs": [
    {
     "name": "stdout",
     "output_type": "stream",
     "text": [
      "The number is: 5\n",
      "The square of the number is: 25\n"
     ]
    }
   ],
   "source": [
    "def my_funtion():\n",
    "    x = int(input(\"Enter a number: \"))\n",
    "    print(\"The number is:\", x)\n",
    "    x = x ** 2\n",
    "    print(\"The square of the number is:\", x)\n",
    "my_funtion()"
   ]
  },
  {
   "cell_type": "markdown",
   "id": "1bc18785",
   "metadata": {},
   "source": [
    "# Try & Except"
   ]
  },
  {
   "cell_type": "code",
   "execution_count": 39,
   "id": "b7c28657",
   "metadata": {},
   "outputs": [
    {
     "name": "stdout",
     "output_type": "stream",
     "text": [
      "Error in division by zero\n"
     ]
    }
   ],
   "source": [
    "a = 10\n",
    "b = 0\n",
    "\n",
    "try:\n",
    "    result = a / b\n",
    "except ZeroDivisionError:\n",
    "    print(\"Error in division by zero\")\n",
    "\n"
   ]
  },
  {
   "cell_type": "markdown",
   "id": "797ba4ec",
   "metadata": {},
   "source": [
    "# OOPs class"
   ]
  },
  {
   "cell_type": "code",
   "execution_count": 40,
   "id": "c96c57b1",
   "metadata": {},
   "outputs": [
    {
     "name": "stdout",
     "output_type": "stream",
     "text": [
      "Alice\n"
     ]
    }
   ],
   "source": [
    "class Person:\n",
    "    def __init__(self, name):\n",
    "        self.name = name\n",
    "\n",
    "person1 = Person(\"Alice\")\n",
    "print(person1.name)"
   ]
  },
  {
   "cell_type": "code",
   "execution_count": 43,
   "id": "56dd3a06",
   "metadata": {
    "vscode": {
     "languageId": "ruby"
    }
   },
   "outputs": [
    {
     "name": "stdout",
     "output_type": "stream",
     "text": [
      "Hello, Roger!\n"
     ]
    }
   ],
   "source": [
    "class Person:\n",
    "    def __init__(self, Hello):\n",
    "        self.Hello = Hello\n",
    "\n",
    "    def greet(self):\n",
    "        print(f\"Hello, {self.Hello}!\")\n",
    "\n",
    "person = Person(\"Roger\")\n",
    "person.greet()"
   ]
  },
  {
   "cell_type": "code",
   "execution_count": 48,
   "id": "744040d6",
   "metadata": {},
   "outputs": [
    {
     "name": "stdout",
     "output_type": "stream",
     "text": [
      "Dog makes a sound!\n"
     ]
    }
   ],
   "source": [
    "class Animal:\n",
    "    def __init__(self, animals):\n",
    "        self.animals = animals\n",
    "    def speak(self):\n",
    "        print(f\"{self.animals} makes a sound!\")\n",
    "animal = Animal(\"Dog\")\n",
    "animal.speak()"
   ]
  },
  {
   "cell_type": "code",
   "execution_count": 4,
   "id": "3a2dd97f",
   "metadata": {},
   "outputs": [
    {
     "name": "stdout",
     "output_type": "stream",
     "text": [
      "Mean: 10.923076923076923, Median: 8, Mode: 5\n"
     ]
    }
   ],
   "source": [
    "\n",
    "A = [24, 22, 21, 9, 5, 0, 5, 15, 7, 8, 5, 17, 4]\n",
    "\n",
    "import statistics\n",
    "mean_A = statistics.mean(A)\n",
    "median_A = statistics.median(A)\n",
    "mode_A = statistics.mode(A)\n",
    "print(f\"Mean: {mean_A}, Median: {median_A}, Mode: {mode_A}\")\n",
    "\n"
   ]
  },
  {
   "cell_type": "code",
   "execution_count": 1,
   "id": "38075735",
   "metadata": {},
   "outputs": [
    {
     "name": "stdout",
     "output_type": "stream",
     "text": [
      "Day  X    X - Mean  (X - Mean)^2   \n",
      "1    30   -4.00     16.00          \n",
      "2    32   -2.00     4.00           \n",
      "3    31   -3.00     9.00           \n",
      "4    29   -5.00     25.00          \n",
      "5    48   14.00     196.00         \n",
      "\n",
      "Mean: 34.00\n",
      "Variance: 50.00\n",
      "Standard Deviation: 7.07\n"
     ]
    }
   ],
   "source": [
    "X = [30, 32, 31, 29, 48]\n",
    "\n",
    "\n",
    "mean = sum(X) / len(X)\n",
    "\n",
    "\n",
    "x_minus_mean = [x - mean for x in X]\n",
    "squared_deviation = [(x - mean) ** 2 for x in X]\n",
    "\n",
    "\n",
    "print(f\"{'Day':<5}{'X':<5}{'X - Mean':<10}{'(X - Mean)^2':<15}\")\n",
    "for i in range(len(X)):\n",
    "    print(f\"{i+1:<5}{X[i]:<5}{x_minus_mean[i]:<10.2f}{squared_deviation[i]:<15.2f}\")\n",
    "\n",
    "\n",
    "variance = sum(squared_deviation) / len(X)\n",
    "std_dev = variance ** 0.5\n",
    "\n",
    "print(f\"\\nMean: {mean:.2f}\")\n",
    "print(f\"Variance: {variance:.2f}\")\n",
    "print(f\"Standard Deviation: {std_dev:.2f}\")"
   ]
  },
  {
   "cell_type": "code",
   "execution_count": null,
   "id": "f2bd7c58",
   "metadata": {},
   "outputs": [],
   "source": []
  }
 ],
 "metadata": {
  "kernelspec": {
   "display_name": "base",
   "language": "python",
   "name": "python3"
  },
  "language_info": {
   "codemirror_mode": {
    "name": "ipython",
    "version": 3
   },
   "file_extension": ".py",
   "mimetype": "text/x-python",
   "name": "python",
   "nbconvert_exporter": "python",
   "pygments_lexer": "ipython3",
   "version": "3.11.7"
  }
 },
 "nbformat": 4,
 "nbformat_minor": 5
}
