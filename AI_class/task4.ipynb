{
 "cells": [
  {
   "cell_type": "markdown",
   "id": "ce82e4ff",
   "metadata": {},
   "source": [
    "# For Loop, While Loop, and List Comprehension"
   ]
  },
  {
   "cell_type": "markdown",
   "id": "9b186cf6",
   "metadata": {},
   "source": [
    "#  For Loop"
   ]
  },
  {
   "cell_type": "code",
   "execution_count": 1,
   "id": "61de9960",
   "metadata": {},
   "outputs": [
    {
     "name": "stdout",
     "output_type": "stream",
     "text": [
      "1 2 3 4 5 6 7 8 9 10 \n",
      "\n"
     ]
    }
   ],
   "source": [
    "for i in range(1, 11):\n",
    "    print(i, end=' ')\n",
    "print('\\n')"
   ]
  },
  {
   "cell_type": "code",
   "execution_count": 2,
   "id": "8cb61eee",
   "metadata": {},
   "outputs": [
    {
     "name": "stdout",
     "output_type": "stream",
     "text": [
      "Sum from 1 to 100: 5050\n"
     ]
    }
   ],
   "source": [
    "total_sum = sum(range(1, 101))\n",
    "print(\"Sum from 1 to 100:\", total_sum)"
   ]
  },
  {
   "cell_type": "code",
   "execution_count": 3,
   "id": "38a2eb54",
   "metadata": {},
   "outputs": [
    {
     "name": "stdout",
     "output_type": "stream",
     "text": [
      "Multiplication table of 5:\n",
      "5 x 1 = 5\n",
      "5 x 2 = 10\n",
      "5 x 3 = 15\n",
      "5 x 4 = 20\n",
      "5 x 5 = 25\n",
      "5 x 6 = 30\n",
      "5 x 7 = 35\n",
      "5 x 8 = 40\n",
      "5 x 9 = 45\n",
      "5 x 10 = 50\n"
     ]
    }
   ],
   "source": [
    "num = 5\n",
    "print(f\"Multiplication table of {num}:\")\n",
    "for i in range(1, 11):\n",
    "    print(f\"{num} x {i} = {num*i}\")\n"
   ]
  },
  {
   "cell_type": "code",
   "execution_count": null,
   "id": "c78a4e53",
   "metadata": {},
   "outputs": [
    {
     "name": "stdout",
     "output_type": "stream",
     "text": [
      "Factorial of 5: 120\n"
     ]
    }
   ],
   "source": [
    "# factorial of a number using a for loop\n",
    "fact_num = 5\n",
    "factorial = 1\n",
    "for i in range(1, fact_num + 1):\n",
    "    factorial *= i\n",
    "print(f\"Factorial of {fact_num}:\", factorial)"
   ]
  },
  {
   "cell_type": "code",
   "execution_count": 5,
   "id": "61479db4",
   "metadata": {},
   "outputs": [
    {
     "name": "stdout",
     "output_type": "stream",
     "text": [
      "Even numbers between 1 and 50:\n",
      "2 4 6 8 10 12 14 16 18 20 22 24 26 28 30 32 34 36 38 40 42 44 46 48 50 \n",
      "\n"
     ]
    }
   ],
   "source": [
    "print(\"Even numbers between 1 and 50:\")\n",
    "for i in range(2, 51, 2):\n",
    "    print(i, end=' ')\n",
    "print('\\n')"
   ]
  },
  {
   "cell_type": "code",
   "execution_count": null,
   "id": "ad386e57",
   "metadata": {},
   "outputs": [
    {
     "name": "stdout",
     "output_type": "stream",
     "text": [
      "Reversed string: olleh\n"
     ]
    }
   ],
   "source": [
    "# reverse order of string for loop\n",
    "input_str = \"hello\"\n",
    "reversed_str = \"\"\n",
    "for char in input_str:\n",
    "    reversed_str = char + reversed_str\n",
    "print(\"Reversed string:\", reversed_str)"
   ]
  },
  {
   "cell_type": "code",
   "execution_count": 7,
   "id": "f5bbe276",
   "metadata": {},
   "outputs": [
    {
     "name": "stdout",
     "output_type": "stream",
     "text": [
      "Fibonacci series up to 10 terms:\n",
      "0 1 1 2 3 5 8 13 21 34 \n",
      "\n"
     ]
    }
   ],
   "source": [
    "fib_terms = 10\n",
    "a, b = 0, 1\n",
    "print(\"Fibonacci series up to 10 terms:\")\n",
    "for _ in range(fib_terms):\n",
    "    print(a, end=' ')\n",
    "    a, b = b, a + b\n",
    "print('\\n')"
   ]
  },
  {
   "cell_type": "code",
   "execution_count": 8,
   "metadata": {},
   "outputs": [
    {
     "name": "stdout",
     "output_type": "stream",
     "text": [
      "Number of vowels in string: 3\n"
     ]
    }
   ],
   "source": [
    "test_str = \"Hello World\"\n",
    "vowels = \"aeiouAEIOU\"\n",
    "vowel_count = 0\n",
    "for char in test_str:\n",
    "    if char in vowels:\n",
    "        vowel_count += 1\n",
    "print(\"Number of vowels in string:\", vowel_count)"
   ]
  },
  {
   "cell_type": "code",
   "execution_count": 9,
   "id": "21a6d144",
   "metadata": {},
   "outputs": [
    {
     "name": "stdout",
     "output_type": "stream",
     "text": [
      "Squares of numbers in the list:\n",
      "1^2 = 1\n",
      "2^2 = 4\n",
      "3^2 = 9\n",
      "4^2 = 16\n",
      "5^2 = 25\n"
     ]
    }
   ],
   "source": [
    "num_list = [1, 2, 3, 4, 5]\n",
    "print(\"Squares of numbers in the list:\")\n",
    "for n in num_list:\n",
    "    print(f\"{n}^2 = {n**2}\")"
   ]
  },
  {
   "cell_type": "code",
   "execution_count": 10,
   "id": "4b3e87d7",
   "metadata": {},
   "outputs": [
    {
     "name": "stdout",
     "output_type": "stream",
     "text": [
      "Pattern:\n",
      "*\n",
      "**\n",
      "***\n",
      "****\n",
      "*****\n"
     ]
    }
   ],
   "source": [
    "print(\"Pattern:\")\n",
    "for i in range(1, 6):\n",
    "    print('*' * i)"
   ]
  },
  {
   "cell_type": "markdown",
   "id": "0347993d",
   "metadata": {},
   "source": [
    "# while loop\n"
   ]
  },
  {
   "cell_type": "code",
   "execution_count": 22,
   "id": "afa2abab",
   "metadata": {},
   "outputs": [
    {
     "name": "stdout",
     "output_type": "stream",
     "text": [
      "1 2 3 4 5 6 7 8 9 10 \n",
      "\n"
     ]
    }
   ],
   "source": [
    "i = 1\n",
    "while i <= 10:\n",
    "    print(i, end=' ')\n",
    "    i += 1\n",
    "print('\\n')"
   ]
  },
  {
   "cell_type": "code",
   "execution_count": 21,
   "id": "c5a5ecaf",
   "metadata": {},
   "outputs": [
    {
     "name": "stdout",
     "output_type": "stream",
     "text": [
      "Even numbers between 1 and 50 (while loop):\n",
      "2 4 6 8 10 12 14 16 18 20 22 24 26 28 30 32 34 36 38 40 42 44 46 48 50 \n",
      "\n"
     ]
    }
   ],
   "source": [
    "i = 2\n",
    "print(\"Even numbers between 1 and 50 (while loop):\")\n",
    "while i <= 50:\n",
    "    print(i, end=' ')\n",
    "    i += 2\n",
    "print('\\n')"
   ]
  },
  {
   "cell_type": "code",
   "execution_count": 20,
   "metadata": {},
   "outputs": [
    {
     "name": "stdout",
     "output_type": "stream",
     "text": [
      "Reversed number of 123: 321\n"
     ]
    }
   ],
   "source": [
    "num = 123\n",
    "rev_num = 0\n",
    "temp = num\n",
    "while temp > 0:\n",
    "    rev_num = rev_num * 10 + temp % 10\n",
    "    temp //= 10\n",
    "print(f\"Reversed number of {num}:\", rev_num)"
   ]
  },
  {
   "cell_type": "code",
   "execution_count": 19,
   "metadata": {},
   "outputs": [
    {
     "name": "stdout",
     "output_type": "stream",
     "text": [
      "Sum of digits of 12345: 15\n"
     ]
    }
   ],
   "source": [
    "num = 12345\n",
    "sum_digits = 0\n",
    "temp = num\n",
    "while temp > 0:\n",
    "    sum_digits += temp % 10\n",
    "    temp //= 10\n",
    "print(f\"Sum of digits of {num}:\", sum_digits)"
   ]
  },
  {
   "cell_type": "code",
   "execution_count": 18,
   "metadata": {},
   "outputs": [
    {
     "name": "stdout",
     "output_type": "stream",
     "text": [
      "Multiplication table of 7 (while loop):\n",
      "7 x 1 = 7\n",
      "7 x 2 = 14\n",
      "7 x 3 = 21\n",
      "7 x 4 = 28\n",
      "7 x 5 = 35\n",
      "7 x 6 = 42\n",
      "7 x 7 = 49\n",
      "7 x 8 = 56\n",
      "7 x 9 = 63\n",
      "7 x 10 = 70\n"
     ]
    }
   ],
   "source": [
    "num = 7\n",
    "print(f\"Multiplication table of {num} (while loop):\")\n",
    "i = 1\n",
    "while i <= 10:\n",
    "    print(f\"{num} x {i} = {num*i}\")\n",
    "    i += 1"
   ]
  },
  {
   "cell_type": "code",
   "execution_count": 17,
   "id": "95447775",
   "metadata": {},
   "outputs": [
    {
     "name": "stdout",
     "output_type": "stream",
     "text": [
      "121 is a palindrome.\n"
     ]
    }
   ],
   "source": [
    "# Check whether a number is a palindrome or not -> Gpt code\n",
    "num = 121\n",
    "temp = num\n",
    "rev_num = 0\n",
    "while temp > 0:\n",
    "    rev_num = rev_num * 10 + temp % 10\n",
    "    temp //= 10\n",
    "if num == rev_num:\n",
    "    print(f\"{num} is a palindrome.\")\n",
    "else:\n",
    "    print(f\"{num} is not a palindrome.\")"
   ]
  },
  {
   "cell_type": "code",
   "execution_count": null,
   "metadata": {},
   "outputs": [
    {
     "name": "stdout",
     "output_type": "stream",
     "text": [
      "Sum of all entered numbers: 18\n"
     ]
    }
   ],
   "source": [
    "# sum of all entered numbers\n",
    "total = 0\n",
    "while True:\n",
    "    n = int(input(\"Enter a number (0 to stop): \"))\n",
    "    if n == 0:\n",
    "        break\n",
    "    total += n\n",
    "print(\"Sum of all entered numbers:\", total)"
   ]
  },
  {
   "cell_type": "code",
   "execution_count": 15,
   "id": "8cc2b755",
   "metadata": {},
   "outputs": [
    {
     "name": "stdout",
     "output_type": "stream",
     "text": [
      "First 10 Fibonacci numbers (while loop):\n",
      "0 1 1 2 3 5 8 13 21 34 \n",
      "\n"
     ]
    }
   ],
   "source": [
    "fib_count = 10\n",
    "a, b = 0, 1\n",
    "i = 0\n",
    "print(\"First 10 Fibonacci numbers (while loop):\")\n",
    "while i < fib_count:\n",
    "    print(a, end=' ')\n",
    "    a, b = b, a + b\n",
    "    i += 1\n",
    "print('\\n')"
   ]
  },
  {
   "cell_type": "code",
   "execution_count": 14,
   "id": "1213a712",
   "metadata": {},
   "outputs": [
    {
     "name": "stdout",
     "output_type": "stream",
     "text": [
      "Wrong! Try again.\n",
      "Wrong! Try again.\n",
      "Wrong! Try again.\n",
      "Wrong! Try again.\n",
      "Correct! The number was 8\n"
     ]
    }
   ],
   "source": [
    "import random\n",
    "secret = random.randint(1, 10)\n",
    "guess = None\n",
    "while guess != secret:\n",
    "    guess = int(input(\"Guess the number (1-10): \"))\n",
    "    if guess != secret:\n",
    "        print(\"Wrong! Try again.\")\n",
    "print(\"Correct! The number was\", secret)"
   ]
  },
  {
   "cell_type": "code",
   "execution_count": 13,
   "metadata": {},
   "outputs": [
    {
     "name": "stdout",
     "output_type": "stream",
     "text": [
      "Pattern using while loop:\n",
      "1\n",
      "12\n",
      "123\n",
      "1234\n",
      "12345\n"
     ]
    }
   ],
   "source": [
    "print(\"Pattern using while loop:\")\n",
    "i = 1\n",
    "while i <= 5:\n",
    "    j = 1\n",
    "    while j <= i:\n",
    "        print(j, end='')\n",
    "        j += 1\n",
    "    print()\n",
    "    i += 1"
   ]
  },
  {
   "cell_type": "markdown",
   "id": "e5690074",
   "metadata": {},
   "source": [
    "# List Comprehension "
   ]
  },
  {
   "cell_type": "code",
   "execution_count": 23,
   "id": "b6820fc6",
   "metadata": {},
   "outputs": [
    {
     "name": "stdout",
     "output_type": "stream",
     "text": [
      "Squares from 1 to 20: [1, 4, 9, 16, 25, 36, 49, 64, 81, 100, 121, 144, 169, 196, 225, 256, 289, 324, 361, 400]\n"
     ]
    }
   ],
   "source": [
    "squares = [x**2 for x in range(1, 21)]\n",
    "print(\"Squares from 1 to 20:\", squares)"
   ]
  },
  {
   "cell_type": "code",
   "execution_count": 24,
   "id": "9a68492f",
   "metadata": {},
   "outputs": [
    {
     "name": "stdout",
     "output_type": "stream",
     "text": [
      "Even numbers from 1 to 50: [2, 4, 6, 8, 10, 12, 14, 16, 18, 20, 22, 24, 26, 28, 30, 32, 34, 36, 38, 40, 42, 44, 46, 48, 50]\n"
     ]
    }
   ],
   "source": [
    "evens = [x for x in range(1, 51) if x % 2 == 0]\n",
    "print(\"Even numbers from 1 to 50:\", evens)"
   ]
  },
  {
   "cell_type": "code",
   "execution_count": 25,
   "metadata": {},
   "outputs": [
    {
     "name": "stdout",
     "output_type": "stream",
     "text": [
      "Uppercase animals: ['CAT', 'DOG', 'ELEPHANT']\n"
     ]
    }
   ],
   "source": [
    "# Convert all characters in a list to uppercase\n",
    "animals = ['cat', 'dog', 'elephant']\n",
    "upper_animals = [animal.upper() for animal in animals]\n",
    "print(\"Uppercase animals:\", upper_animals)"
   ]
  },
  {
   "cell_type": "code",
   "execution_count": 26,
   "metadata": {},
   "outputs": [
    {
     "name": "stdout",
     "output_type": "stream",
     "text": [
      "Vowels in string: ['e', 'o', 'o']\n"
     ]
    }
   ],
   "source": [
    "# Extract all vowels from a given string -> Gpt code\n",
    "input_str = \"Hello World\"\n",
    "vowels = \"aeiouAEIOU\"\n",
    "extracted_vowels = [char for char in input_str if char in vowels]\n",
    "print(\"Vowels in string:\", extracted_vowels)\n"
   ]
  },
  {
   "cell_type": "code",
   "execution_count": 27,
   "id": "fd4dca01",
   "metadata": {},
   "outputs": [
    {
     "name": "stdout",
     "output_type": "stream",
     "text": [
      "Words with more than 3 characters: ['quick', 'brown', 'jumps']\n"
     ]
    }
   ],
   "source": [
    "words = ['the', 'quick', 'brown', 'fox', 'jumps']\n",
    "long_words = [word for word in words if len(word) > 3]\n",
    "print(\"Words with more than 3 characters:\", long_words)"
   ]
  },
  {
   "cell_type": "code",
   "execution_count": 28,
   "id": "84506291",
   "metadata": {},
   "outputs": [
    {
     "name": "stdout",
     "output_type": "stream",
     "text": [
      "Numbers divisible by both 3 and 5 from 1 to 100: [15, 30, 45, 60, 75, 90]\n"
     ]
    }
   ],
   "source": [
    "div_by_3_and_5 = [x for x in range(1, 101) if x % 3 == 0 and x % 5 == 0]\n",
    "print(\"Numbers divisible by both 3 and 5 from 1 to 100:\", div_by_3_and_5)"
   ]
  },
  {
   "cell_type": "code",
   "execution_count": 29,
   "id": "fec8fdcb",
   "metadata": {},
   "outputs": [
    {
     "name": "stdout",
     "output_type": "stream",
     "text": [
      "Positive numbers: [15, 30, 5]\n"
     ]
    }
   ],
   "source": [
    "int_list = [-10, 15, -20, 30, 0, 5]\n",
    "positive_numbers = [x for x in int_list if x > 0]\n",
    "print(\"Positive numbers:\", positive_numbers)\n"
   ]
  },
  {
   "cell_type": "code",
   "execution_count": 30,
   "metadata": {},
   "outputs": [
    {
     "name": "stdout",
     "output_type": "stream",
     "text": [
      "List of (number, square) tuples: [(1, 1), (2, 4), (3, 9), (4, 16), (5, 25), (6, 36), (7, 49), (8, 64), (9, 81), (10, 100)]\n"
     ]
    }
   ],
   "source": [
    "num_square_tuples = [(x, x**2) for x in range(1, 11)]\n",
    "print(\"List of (number, square) tuples:\", num_square_tuples)"
   ]
  },
  {
   "cell_type": "code",
   "execution_count": 31,
   "id": "e81a35f4",
   "metadata": {},
   "outputs": [
    {
     "name": "stdout",
     "output_type": "stream",
     "text": [
      "Flattened list: [1, 2, 3, 4, 5, 6]\n"
     ]
    }
   ],
   "source": [
    "list_2d = [[1, 2], [3, 4], [5, 6]]\n",
    "flattened = [item for sublist in list_2d for item in sublist]\n",
    "print(\"Flattened list:\", flattened)"
   ]
  },
  {
   "cell_type": "code",
   "execution_count": null,
   "id": "c9ced841",
   "metadata": {},
   "outputs": [
    {
     "name": "stdout",
     "output_type": "stream",
     "text": [
      "Palindromes: ['level', 'radar', 'madam']\n"
     ]
    }
   ],
   "source": [
    " # From a list of strings, get the list of strings that are palindromes -> Gpt code\n",
    "str_list = ['level', 'world', 'radar', 'python', 'madam']\n",
    "palindromes = [s for s in str_list if s == s[::-1]]\n",
    "print(\"Palindromes:\", palindromes)"
   ]
  }
 ],
 "metadata": {
  "kernelspec": {
   "display_name": "Python 3",
   "language": "python",
   "name": "python3"
  },
  "language_info": {
   "codemirror_mode": {
    "name": "ipython",
    "version": 3
   },
   "file_extension": ".py",
   "mimetype": "text/x-python",
   "name": "python",
   "nbconvert_exporter": "python",
   "pygments_lexer": "ipython3",
   "version": "3.10.0"
  }
 },
 "nbformat": 4,
 "nbformat_minor": 5
}
