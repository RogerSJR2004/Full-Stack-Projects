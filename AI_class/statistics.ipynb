{
 "cells": [
  {
   "cell_type": "code",
   "execution_count": 1,
   "id": "a9d19164",
   "metadata": {},
   "outputs": [],
   "source": [
    "data = [12, 15, 18, 20, 22, 25, 28, 30, 33, 35, 38, 40, 42, 45, 48, 50, 52, 55, 58, 60, 62, 65, 68, 70, 72, 75]"
   ]
  },
  {
   "cell_type": "code",
   "execution_count": 3,
   "id": "ad3deeb2",
   "metadata": {},
   "outputs": [
    {
     "name": "stdout",
     "output_type": "stream",
     "text": [
      "63\n"
     ]
    }
   ],
   "source": [
    "# Range\n",
    "\n",
    "def calculate_range(data):\n",
    "    return max(data) - min(data)\n",
    "print(calculate_range(data))"
   ]
  },
  {
   "cell_type": "code",
   "execution_count": null,
   "id": "30fba861",
   "metadata": {},
   "outputs": [
    {
     "name": "stdout",
     "output_type": "stream",
     "text": [
      "350.8698224852072\n"
     ]
    }
   ],
   "source": [
    "# Variance\n",
    "\n",
    "def calculate_variance(data):\n",
    "    mean = sum(data) / len(data)\n",
    "    variance = sum((x - mean) ** 2 for x in data) / len(data) # Formula only get from GPT\n",
    "    return variance\n",
    "print(calculate_variance(data))"
   ]
  },
  {
   "cell_type": "code",
   "execution_count": 6,
   "id": "7e12a863",
   "metadata": {},
   "outputs": [
    {
     "name": "stdout",
     "output_type": "stream",
     "text": [
      "18.73151949216099\n"
     ]
    }
   ],
   "source": [
    "# Standard Deviation\n",
    "\n",
    "def calculate_standard_deviation(data):\n",
    "    variance = calculate_variance(data)\n",
    "    return variance ** 0.5\n",
    "print(calculate_standard_deviation(data))"
   ]
  },
  {
   "cell_type": "code",
   "execution_count": 7,
   "id": "641ff53c",
   "metadata": {},
   "outputs": [
    {
     "name": "stdout",
     "output_type": "stream",
     "text": [
      "25.0\n"
     ]
    }
   ],
   "source": [
    "# Percentage\n",
    "\n",
    "def calculate_percentage(part, whole):\n",
    "    return (part / whole) * 100\n",
    "print(calculate_percentage(15, 60))"
   ]
  },
  {
   "cell_type": "code",
   "execution_count": 9,
   "id": "f12f731b",
   "metadata": {},
   "outputs": [
    {
     "name": "stdout",
     "output_type": "stream",
     "text": [
      "28.5\n"
     ]
    }
   ],
   "source": [
    "# Percentiles  -> from GPT don't know how to do this in code but I know the formula that you have teach yesterday\n",
    "\n",
    "def calculate_percentile(data, percentile):\n",
    "    sorted_data = sorted(data)\n",
    "    index = (percentile / 100) * (len(sorted_data) - 1)\n",
    "    if index.is_integer():\n",
    "        return sorted_data[int(index)]\n",
    "    else:\n",
    "        lower = sorted_data[int(index)]\n",
    "        upper = sorted_data[int(index) + 1]\n",
    "        return lower + (upper - lower) * (index - int(index))\n",
    "print(calculate_percentile(data, 25))"
   ]
  },
  {
   "cell_type": "code",
   "execution_count": 10,
   "id": "85685a17",
   "metadata": {},
   "outputs": [
    {
     "name": "stdout",
     "output_type": "stream",
     "text": [
      "31.0\n"
     ]
    }
   ],
   "source": [
    "# IQR\n",
    "\n",
    "def calculate_iqr(data):\n",
    "    q1 = calculate_percentile(data, 25)\n",
    "    q3 = calculate_percentile(data, 75)\n",
    "    return q3 - q1\n",
    "print(calculate_iqr(data))"
   ]
  },
  {
   "cell_type": "code",
   "execution_count": null,
   "id": "e08a9df2",
   "metadata": {},
   "outputs": [],
   "source": []
  }
 ],
 "metadata": {
  "kernelspec": {
   "display_name": "base",
   "language": "python",
   "name": "python3"
  },
  "language_info": {
   "codemirror_mode": {
    "name": "ipython",
    "version": 3
   },
   "file_extension": ".py",
   "mimetype": "text/x-python",
   "name": "python",
   "nbconvert_exporter": "python",
   "pygments_lexer": "ipython3",
   "version": "3.11.7"
  }
 },
 "nbformat": 4,
 "nbformat_minor": 5
}
