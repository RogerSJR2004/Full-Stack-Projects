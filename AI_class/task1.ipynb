{
 "cells": [
  {
   "cell_type": "code",
   "execution_count": null,
   "id": "01e8a1e8",
   "metadata": {},
   "outputs": [
    {
     "name": "stdout",
     "output_type": "stream",
     "text": [
      "Sum: 35\n",
      "Difference: -15\n",
      "Product: 250\n",
      "Quotient: 0.4\n",
      "Is 'a' greater than 'b' False\n",
      "Value of 'c': False\n"
     ]
    }
   ],
   "source": [
    "#Integer (int) Type\n",
    "a = 10\n",
    "b = 25\n",
    "\n",
    "print(\"Sum:\", a + b)\n",
    "print(\"Difference:\", a - b)\n",
    "print(\"Product:\", a * b)\n",
    "print(\"Quotient:\", a / b)\n",
    "print(\"Is 'a' greater than 'b'\", a > b)"
   ]
  },
  {
   "cell_type": "markdown",
   "id": "e462acc4",
   "metadata": {},
   "source": [
    "## The round() function cuts the number to the number of decimals you want."
   ]
  },
  {
   "cell_type": "code",
   "execution_count": null,
   "id": "e49f045a",
   "metadata": {},
   "outputs": [
    {
     "name": "stdout",
     "output_type": "stream",
     "text": [
      "\n",
      "Addition: 19.7\n",
      "Subtraction: 11.3\n",
      "Multiplication: 65.10000000000001\n",
      "Division: 3.69\n"
     ]
    }
   ],
   "source": [
    "#Float (float) Type\n",
    "x = 15.5\n",
    "y = 4.2\n",
    "\n",
    "print(\"\\nAddition:\", x + y)\n",
    "print(\"Subtraction:\", x - y)\n",
    "print(\"Multiplication:\", x * y)\n",
    "print(\"Division:\", round(x / y, 2))  # Means: round this number to 2 decimal places → becomes 3.69"
   ]
  },
  {
   "cell_type": "code",
   "execution_count": 3,
   "id": "097d2238",
   "metadata": {},
   "outputs": [
    {
     "name": "stdout",
     "output_type": "stream",
     "text": [
      "\n",
      "First Name: Roger\n",
      "Last Name: Samuel\n",
      "Total Characters: 12\n",
      "Uppercase: ROGER SAMUEL\n",
      "Lowercase: roger samuel\n"
     ]
    }
   ],
   "source": [
    "#String (str) Type\n",
    "full_name = \"Roger Samuel\"\n",
    "\n",
    "# Splitting based on space\n",
    "first_name, last_name = full_name.split()\n",
    "print(\"\\nFirst Name:\", first_name)\n",
    "print(\"Last Name:\", last_name)\n",
    "print(\"Total Characters:\", len(full_name))\n",
    "print(\"Uppercase:\", full_name.upper())\n",
    "print(\"Lowercase:\", full_name.lower())"
   ]
  },
  {
   "cell_type": "code",
   "execution_count": 4,
   "id": "dd858032",
   "metadata": {},
   "outputs": [
    {
     "name": "stdout",
     "output_type": "stream",
     "text": [
      "\n",
      "Did the student pass? True\n",
      "Is the mark between 80 and 100? True\n"
     ]
    }
   ],
   "source": [
    "# Boolean (bool) Type\n",
    "marks = 85\n",
    "pass_mark = 40\n",
    "\n",
    "print(\"\\nDid the student pass?\", marks >= pass_mark)\n",
    "print(\"Is the mark between 80 and 100?\", marks >= 80 and marks <= 100)"
   ]
  },
  {
   "cell_type": "code",
   "execution_count": null,
   "id": "1ac718de",
   "metadata": {},
   "outputs": [
    {
     "name": "stdout",
     "output_type": "stream",
     "text": [
      "\n",
      "Type of x: <class 'NoneType'>\n",
      "New value of x: 42\n",
      "New type of x: <class 'int'>\n"
     ]
    },
    {
     "data": {
      "text/plain": [
       "int"
      ]
     },
     "execution_count": 2,
     "metadata": {},
     "output_type": "execute_result"
    }
   ],
   "source": [
    "# None type\n",
    "x = None\n",
    "print(\"\\nType of x:\", type(x))\n",
    "\n",
    "x = 42\n",
    "print(\"New value of x:\", x)\n",
    "print(\"New type of x:\", type(x))"
   ]
  },
  {
   "cell_type": "code",
   "execution_count": 6,
   "id": "4cd2ccb0",
   "metadata": {},
   "outputs": [
    {
     "name": "stdout",
     "output_type": "stream",
     "text": [
      "\n",
      "Convert int 5 to float: 5.0\n",
      "Convert float 9.7 to int: 9\n",
      "Convert number 101 to string: 101\n",
      "Convert string '25' to int: 25\n"
     ]
    }
   ],
   "source": [
    "# Type Conversion\n",
    "print(\"\\nConvert int 5 to float:\", float(5))\n",
    "print(\"Convert float 9.7 to int:\", int(9.7))\n",
    "print(\"Convert number 101 to string:\", str(101))\n",
    "print(\"Convert string '25' to int:\", int(\"25\"))"
   ]
  },
  {
   "cell_type": "code",
   "execution_count": 11,
   "id": "39facd03",
   "metadata": {},
   "outputs": [
    {
     "name": "stdout",
     "output_type": "stream",
     "text": [
      "a: 10\n",
      "b: 25\n",
      "Sum: 35\n",
      "Difference: -15\n",
      "Product: 250\n",
      "Division: 0.4\n",
      "Modulus: 10\n",
      "Exponentiation: 10000000000000000000000000\n"
     ]
    }
   ],
   "source": [
    "# Arithmetic Programming\n",
    "a = int(input(\"\\nEnter first number: \"))\n",
    "b = int(input(\"Enter second number: \"))\n",
    "print(\"a:\", a)\n",
    "print(\"b:\", b)\n",
    "\n",
    "print(\"Sum:\", a + b)\n",
    "print(\"Difference:\", a - b)\n",
    "print(\"Product:\", a * b)\n",
    "print(\"Division:\", a / b if b != 0 else \"Cannot divide by zero\")\n",
    "print(\"Modulus:\", a % b if b != 0 else \"Cannot perform modulus with zero\")\n",
    "print(\"Exponentiation:\", a ** b)"
   ]
  },
  {
   "cell_type": "code",
   "execution_count": 12,
   "id": "cad3b3f5",
   "metadata": {},
   "outputs": [
    {
     "name": "stdout",
     "output_type": "stream",
     "text": [
      "\n",
      "Type of student_name: <class 'str'>\n",
      "Type of roll_number: <class 'int'>\n",
      "Type of percentage: <class 'float'>\n",
      "Type of is_present: <class 'bool'>\n"
     ]
    }
   ],
   "source": [
    "# Variable Types\n",
    "student_name = \"J. Roger Samuel\"\n",
    "roll_number = 112233\n",
    "percentage = 87.5\n",
    "is_present = True\n",
    "\n",
    "print(\"\\nType of student_name:\", type(student_name))\n",
    "print(\"Type of roll_number:\", type(roll_number))\n",
    "print(\"Type of percentage:\", type(percentage))\n",
    "print(\"Type of is_present:\", type(is_present))"
   ]
  },
  {
   "cell_type": "markdown",
   "id": "2dec83e0",
   "metadata": {},
   "source": [
    "# Append example"
   ]
  },
  {
   "cell_type": "code",
   "execution_count": 3,
   "id": "0eaa0186",
   "metadata": {},
   "outputs": [
    {
     "name": "stdout",
     "output_type": "stream",
     "text": [
      "['apple', 'banana', 'orange', 'grape', 'mango']\n",
      "['apple', 'banana', 'orange', 'grape', 'mango', 'pineapple']\n"
     ]
    }
   ],
   "source": [
    "fruits = ['apple', 'banana', 'orange', 'grape', 'mango']\n",
    "print(fruits)\n",
    "\n",
    "fruits.append('pineapple')\n",
    "print(fruits)"
   ]
  },
  {
   "cell_type": "markdown",
   "id": "74016fb1",
   "metadata": {},
   "source": [
    "# NESTED TUPLE"
   ]
  },
  {
   "cell_type": "code",
   "execution_count": 11,
   "id": "5a58aa65",
   "metadata": {},
   "outputs": [
    {
     "name": "stdout",
     "output_type": "stream",
     "text": [
      "extracting '1' from NestedT: 1\n"
     ]
    }
   ],
   "source": [
    "NestedT =(1, 2, (\"pop\", \"rock\") ,(3,4),(\"disco\",(1,2)))\n",
    "print(\"extracting '1' from NestedT:\", NestedT[4][1][0])"
   ]
  },
  {
   "cell_type": "code",
   "execution_count": null,
   "id": "34de3255",
   "metadata": {},
   "outputs": [],
   "source": []
  }
 ],
 "metadata": {
  "kernelspec": {
   "display_name": "base",
   "language": "python",
   "name": "python3"
  },
  "language_info": {
   "codemirror_mode": {
    "name": "ipython",
    "version": 3
   },
   "file_extension": ".py",
   "mimetype": "text/x-python",
   "name": "python",
   "nbconvert_exporter": "python",
   "pygments_lexer": "ipython3",
   "version": "3.11.7"
  }
 },
 "nbformat": 4,
 "nbformat_minor": 5
}
